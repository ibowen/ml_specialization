{
 "cells": [
  {
   "cell_type": "markdown",
   "metadata": {},
   "source": [
    "# Regression Week 4: Ridge Regression (interpretation)"
   ]
  },
  {
   "cell_type": "code",
   "execution_count": 1,
   "metadata": {
    "collapsed": false
   },
   "outputs": [],
   "source": [
    "import numpy as np\n",
    "import pandas as pd\n",
    "import matplotlib.pyplot as plt\n",
    "%matplotlib inline"
   ]
  },
  {
   "cell_type": "markdown",
   "metadata": {},
   "source": [
    "# Polynomial regression, revisited"
   ]
  },
  {
   "cell_type": "code",
   "execution_count": 2,
   "metadata": {
    "collapsed": true
   },
   "outputs": [],
   "source": [
    "def polynomial_frame(feature, degree):\n",
    "    # assume that degree >= 1\n",
    "    # initialize the dataframe:\n",
    "    poly_frame = pd.DataFrame()\n",
    "    # and set poly_frame['power_1'] equal to the passed feature\n",
    "    poly_frame['power_1'] = feature\n",
    "    # first check if degree > 1\n",
    "    if degree > 1:\n",
    "        # then loop over the remaining degrees:\n",
    "        # range usually starts at 0 and stops at the endpoint-1. We want it to start at 2 and stop at degree\n",
    "        for power in range(2, degree + 1): \n",
    "            # first we'll give the column a name:\n",
    "            name = 'power_' + str(power)\n",
    "            # then assign poly_frame[name] to the appropriate power of feature\n",
    "            poly_frame[name] = feature.apply(lambda i: i ** power)\n",
    "    return poly_frame"
   ]
  },
  {
   "cell_type": "code",
   "execution_count": 45,
   "metadata": {
    "collapsed": false
   },
   "outputs": [],
   "source": [
    "sales = pd.read_csv('kc_house_data.csv')"
   ]
  },
  {
   "cell_type": "code",
   "execution_count": 46,
   "metadata": {
    "collapsed": false
   },
   "outputs": [
    {
     "data": {
      "text/plain": [
       "[<matplotlib.lines.Line2D at 0x111a9af50>]"
      ]
     },
     "execution_count": 46,
     "metadata": {},
     "output_type": "execute_result"
    },
    {
     "data": {
      "image/png": "[encoded data removed]",
      "text/plain": [
       "<matplotlib.figure.Figure at 0x111f39ed0>"
      ]
     },
     "metadata": {},
     "output_type": "display_data"
    }
   ],
   "source": [
    "sales = sales.sort(['sqft_living','price'])\n",
    "plt.plot(sales['sqft_living'],sales['price'],'.')"
   ]
  },
  {
   "cell_type": "code",
   "execution_count": 47,
   "metadata": {
    "collapsed": false
   },
   "outputs": [],
   "source": [
    "from sklearn.preprocessing import MinMaxScaler"
   ]
  },
  {
   "cell_type": "code",
   "execution_count": 48,
   "metadata": {
    "collapsed": false
   },
   "outputs": [
    {
     "name": "stderr",
     "output_type": "stream",
     "text": [
      "/Library/Frameworks/Python.framework/Versions/2.7/lib/python2.7/site-packages/sklearn/preprocessing/data.py:321: DeprecationWarning: Passing 1d arrays as data is deprecated in 0.17 and will raise ValueError in 0.19. Reshape your data either using X.reshape(-1, 1) if your data has a single feature or X.reshape(1, -1) if it contains a single sample.\n",
      "  warnings.warn(DEPRECATION_MSG_1D, DeprecationWarning)\n",
      "/Library/Frameworks/Python.framework/Versions/2.7/lib/python2.7/site-packages/sklearn/preprocessing/data.py:356: DeprecationWarning: Passing 1d arrays as data is deprecated in 0.17 and will raise ValueError in 0.19. Reshape your data either using X.reshape(-1, 1) if your data has a single feature or X.reshape(1, -1) if it contains a single sample.\n",
      "  warnings.warn(DEPRECATION_MSG_1D, DeprecationWarning)\n"
     ]
    }
   ],
   "source": [
    "scaler = MinMaxScaler()\n",
    "sales['sqft_living'] = scaler.fit_transform(sales['sqft_living'])"
   ]
  },
  {
   "cell_type": "markdown",
   "metadata": {},
   "source": [
    "Let us revisit the 15th-order polynomial model using the 'sqft_living' input. Generate polynomial features up to degree 15 using `polynomial_sframe()` and fit a model with these features. When fitting the model, use an L2 penalty of `1e-5`:"
   ]
  },
  {
   "cell_type": "code",
   "execution_count": 50,
   "metadata": {
    "collapsed": true
   },
   "outputs": [],
   "source": [
    "l2_small_penalty = 1e-5"
   ]
  },
  {
   "cell_type": "markdown",
   "metadata": {},
   "source": [
    "Note: When we have so many features and so few data points, the solution can become highly numerically unstable, which can sometimes lead to strange unpredictable results.  Thus, rather than using no regularization, we will introduce a tiny amount of regularization (`l2_penalty=1e-5`) to make the solution numerically stable.  (In lecture, we discussed the fact that regularization can also help with numerical stability, and here we are seeing a practical example.)\n",
    "\n",
    "With the L2 penalty specified above, fit the model and print out the learned weights.\n",
    "\n",
    "Hint: make sure to add 'price' column to the new SFrame before calling `graphlab.linear_regression.create()`. Also, make sure GraphLab Create doesn't create its own validation set by using the option `validation_set=None` in this call."
   ]
  },
  {
   "cell_type": "code",
   "execution_count": 51,
   "metadata": {
    "collapsed": true
   },
   "outputs": [],
   "source": [
    "from sklearn.linear_model import Ridge"
   ]
  },
  {
   "cell_type": "code",
   "execution_count": 52,
   "metadata": {
    "collapsed": false
   },
   "outputs": [
    {
     "name": "stdout",
     "output_type": "stream",
     "text": [
      "[  3.05508883e+06  -2.14446386e+07   1.36688915e+08  -2.01602760e+08\n",
      "  -5.13041601e+07   1.25982305e+08   1.48602805e+08   6.87734173e+07\n",
      "  -2.96308134e+07  -9.74068332e+07  -1.18742636e+08  -9.62729103e+07\n",
      "  -3.96712210e+07   4.03807762e+07   1.34655061e+08] 202519.409733\n"
     ]
    }
   ],
   "source": [
    "poly_data = polynomial_frame(sales['sqft_living'], 15)\n",
    "features = poly_data.columns.tolist()\n",
    "poly_data['price'] = sales['price']\n",
    "poly_model = Ridge(alpha=l2_small_penalty)\n",
    "poly_model = poly_model.fit(poly_data[features], poly_data['price'])\n",
    "print poly_model.coef_, poly_model.intercept_"
   ]
  },
  {
   "cell_type": "markdown",
   "metadata": {},
   "source": [
    "# Observe overfitting"
   ]
  },
  {
   "cell_type": "markdown",
   "metadata": {},
   "source": [
    "Recall from Week 3 that the polynomial fit of degree 15 changed wildly whenever the data changed. In particular, when we split the sales data into four subsets and fit the model of degree 15, the result came out to be very different for each subset. The model had a *high variance*. We will see in a moment that ridge regression reduces such variance. But first, we must reproduce the experiment we did in Week 3."
   ]
  },
  {
   "cell_type": "markdown",
   "metadata": {},
   "source": [
    "First, split the data into split the sales data into four subsets of roughly equal size and call them `set_1`, `set_2`, `set_3`, and `set_4`. Use `.random_split` function and make sure you set `seed=0`. "
   ]
  },
  {
   "cell_type": "code",
   "execution_count": 53,
   "metadata": {
    "collapsed": true
   },
   "outputs": [],
   "source": [
    "from sklearn.model_selection import train_test_split"
   ]
  },
  {
   "cell_type": "code",
   "execution_count": 54,
   "metadata": {
    "collapsed": true
   },
   "outputs": [],
   "source": [
    "(semi_split1, semi_split2) = train_test_split(sales, train_size=0.5, random_state=0)\n",
    "(set_1, set_2) = train_test_split(semi_split1, train_size=0.5, random_state=0)\n",
    "(set_3, set_4) = train_test_split(semi_split2, train_size=0.5, random_state=0)"
   ]
  },
  {
   "cell_type": "markdown",
   "metadata": {},
   "source": [
    "Next, fit a 15th degree polynomial on `set_1`, `set_2`, `set_3`, and `set_4`, using 'sqft_living' to predict prices. Print the weights and make a plot of the resulting model.\n",
    "\n",
    "Hint: When calling `graphlab.linear_regression.create()`, use the same L2 penalty as before (i.e. `l2_small_penalty`).  Also, make sure GraphLab Create doesn't create its own validation set by using the option `validation_set = None` in this call."
   ]
  },
  {
   "cell_type": "code",
   "execution_count": 55,
   "metadata": {
    "collapsed": false
   },
   "outputs": [
    {
     "name": "stdout",
     "output_type": "stream",
     "text": [
      "[  2906987.9412319  -16227683.25743312  87559183.94106457\n",
      " -58460271.93357595 -82045905.14401591 -28475183.3820682   24763645.22184061\n",
      "  53484157.25953613  61248678.9998645   57192546.7227848   48302892.67873388\n",
      "  38517511.52887519  29637809.86246547  22276330.68425907\n",
      "  16475320.08922414] 200718.811608\n"
     ]
    },
    {
     "data": {
      "text/plain": [
       "[<matplotlib.lines.Line2D at 0x10d648ad0>,\n",
       " <matplotlib.lines.Line2D at 0x10d648bd0>]"
      ]
     },
     "execution_count": 55,
     "metadata": {},
     "output_type": "execute_result"
    },
    {
     "data": {
      "image/png": "[encoded data removed]",
      "text/plain": [
       "<matplotlib.figure.Figure at 0x10d46fa10>"
      ]
     },
     "metadata": {},
     "output_type": "display_data"
    }
   ],
   "source": [
    "poly_data1 = polynomial_frame(set_1['sqft_living'], 15)\n",
    "features1 = poly_data1.columns.tolist()\n",
    "poly_data1['price'] = set_1['price']\n",
    "poly_model1 = Ridge(alpha=l2_small_penalty)\n",
    "poly_model1 = poly_model1.fit(poly_data1[features1], poly_data1['price'])\n",
    "print poly_model1.coef_, poly_model1.intercept_ \n",
    "poly_data1 = poly_data1.sort(['power_1'])\n",
    "plt.plot(poly_data1['power_1'],poly_data1['price'],'.', poly_data1['power_1'], poly_model1.predict(poly_data1[features1]), '-')"
   ]
  },
  {
   "cell_type": "code",
   "execution_count": 56,
   "metadata": {
    "collapsed": false,
    "scrolled": false
   },
   "outputs": [
    {
     "name": "stdout",
     "output_type": "stream",
     "text": [
      "[   641031.09692563   5023612.11949657  28455531.85557938 -70717766.8134342\n",
      "  12541886.59336992  63182652.58538948  45263156.78905418\n",
      "   1336917.08994545 -35882056.13995461 -55976481.14549491\n",
      " -60961793.23224529 -56470954.88740855 -47580826.29657905\n",
      " -37661547.42583341 -28523671.01152962] 272286.545308\n"
     ]
    },
    {
     "data": {
      "text/plain": [
       "[<matplotlib.lines.Line2D at 0x10ab00a50>,\n",
       " <matplotlib.lines.Line2D at 0x10ab00b50>]"
      ]
     },
     "execution_count": 56,
     "metadata": {},
     "output_type": "execute_result"
    },
    {
     "data": {
      "image/png": "[encoded data removed]",
      "text/plain": [
       "<matplotlib.figure.Figure at 0x111934410>"
      ]
     },
     "metadata": {},
     "output_type": "display_data"
    }
   ],
   "source": [
    "poly_data2 = polynomial_frame(set_2['sqft_living'], 15)\n",
    "features2 = poly_data2.columns.tolist()\n",
    "poly_data2['price'] = set_2['price']\n",
    "poly_model2 = Ridge(alpha=l2_small_penalty)\n",
    "poly_model2 = poly_model2.fit(poly_data2[features2], poly_data2['price'])\n",
    "print poly_model2.coef_, poly_model2.intercept_ \n",
    "poly_data2 = poly_data2.sort(['power_1'])\n",
    "plt.plot(poly_data2['power_1'],poly_data2['price'],'.', poly_data2['power_1'], poly_model2.predict(poly_data2[features2]), '-')"
   ]
  },
  {
   "cell_type": "code",
   "execution_count": 57,
   "metadata": {
    "collapsed": false
   },
   "outputs": [
    {
     "name": "stdout",
     "output_type": "stream",
     "text": [
      "[   318349.95030375   6901060.46194464  33651596.711211   -95703084.39897802\n",
      "  10911311.87449881  82539261.80903348  68912542.14574002\n",
      "  16518799.35288799 -33268611.1013725  -61847543.38053393\n",
      " -65843752.96606896 -48726368.84280267 -15953705.19596959\n",
      "  27198432.07469444  76386160.93612002] 278034.765623\n"
     ]
    },
    {
     "data": {
      "text/plain": [
       "[<matplotlib.lines.Line2D at 0x111a51290>,\n",
       " <matplotlib.lines.Line2D at 0x111a51990>]"
      ]
     },
     "execution_count": 57,
     "metadata": {},
     "output_type": "execute_result"
    },
    {
     "data": {
      "image/png": "[encoded data removed]",
      "text/plain": [
       "<matplotlib.figure.Figure at 0x1013e6190>"
      ]
     },
     "metadata": {},
     "output_type": "display_data"
    }
   ],
   "source": [
    "poly_data3 = polynomial_frame(set_3['sqft_living'], 15)\n",
    "features3 = poly_data3.columns.tolist()\n",
    "poly_data3['price'] = set_3['price']\n",
    "poly_model3 = Ridge(alpha=l2_small_penalty)\n",
    "poly_model3 = poly_model3.fit(poly_data3[features3], poly_data3['price'])\n",
    "print poly_model3.coef_, poly_model3.intercept_ \n",
    "poly_data3 = poly_data3.sort(['power_1'])\n",
    "plt.plot(poly_data3['power_1'],poly_data3['price'],'.', poly_data3['power_1'], poly_model3.predict(poly_data3[features3]), '-')"
   ]
  },
  {
   "cell_type": "code",
   "execution_count": 58,
   "metadata": {
    "collapsed": false
   },
   "outputs": [
    {
     "name": "stdout",
     "output_type": "stream",
     "text": [
      "[  2.19097247e+06  -1.30733596e+07   9.74015748e+07  -1.27511082e+08\n",
      "  -6.06320961e+07   5.61420096e+07   1.00019086e+08   8.08509921e+07\n",
      "   3.68154564e+07  -5.90335479e+06  -3.65194398e+07  -5.36653093e+07\n",
      "  -5.99787537e+07  -5.90024799e+07  -5.38333202e+07] 235461.775805\n"
     ]
    },
    {
     "data": {
      "text/plain": [
       "[<matplotlib.lines.Line2D at 0x1132c74d0>,\n",
       " <matplotlib.lines.Line2D at 0x1132c7bd0>]"
      ]
     },
     "execution_count": 58,
     "metadata": {},
     "output_type": "execute_result"
    },
    {
     "data": {
      "image/png": "[encoded data removed]",
      "text/plain": [
       "<matplotlib.figure.Figure at 0x11187c190>"
      ]
     },
     "metadata": {},
     "output_type": "display_data"
    }
   ],
   "source": [
    "poly_data4 = polynomial_frame(set_4['sqft_living'], 15)\n",
    "features4 = poly_data4.columns.tolist()\n",
    "poly_data4['price'] = set_4['price']\n",
    "poly_model4 = Ridge(alpha=l2_small_penalty)\n",
    "poly_model4 = poly_model4.fit(poly_data4[features4], poly_data4['price'])\n",
    "print poly_model4.coef_, poly_model4.intercept_ \n",
    "poly_data4 = poly_data4.sort(['power_1'])\n",
    "plt.plot(poly_data4['power_1'],poly_data4['price'],'.', poly_data4['power_1'], poly_model4.predict(poly_data4[features4]), '-')"
   ]
  },
  {
   "cell_type": "markdown",
   "metadata": {},
   "source": [
    "# Ridge regression comes to rescue"
   ]
  },
  {
   "cell_type": "markdown",
   "metadata": {},
   "source": [
    "Generally, whenever we see weights change so much in response to change in data, we believe the variance of our estimate to be large. Ridge regression aims to address this issue by penalizing \"large\" weights. (Weights of `model15` looked quite small, but they are not that small because 'sqft_living' input is in the order of thousands.)\n",
    "\n",
    "With the argument `l2_penalty=1e5`, fit a 15th-order polynomial model on `set_1`, `set_2`, `set_3`, and `set_4`. Other than the change in the `l2_penalty` parameter, the code should be the same as the experiment above. Also, make sure GraphLab Create doesn't create its own validation set by using the option `validation_set = None` in this call."
   ]
  },
  {
   "cell_type": "code",
   "execution_count": 64,
   "metadata": {
    "collapsed": true
   },
   "outputs": [],
   "source": [
    "l2_penalty=10"
   ]
  },
  {
   "cell_type": "code",
   "execution_count": 65,
   "metadata": {
    "collapsed": false,
    "scrolled": false
   },
   "outputs": [
    {
     "name": "stdout",
     "output_type": "stream",
     "text": [
      "[  2.36172328e+06   1.16038207e+06   4.91607765e+05   2.13639314e+05\n",
      "   1.00373689e+05   5.17142297e+04   2.90272320e+04   1.74554442e+04\n",
      "   1.10398028e+04   7.23021222e+03   4.84792433e+03   3.30215122e+03\n",
      "   2.27318945e+03   1.57615890e+03   1.09829157e+03] 192307.088711\n"
     ]
    },
    {
     "data": {
      "text/plain": [
       "[<matplotlib.lines.Line2D at 0x114ae62d0>,\n",
       " <matplotlib.lines.Line2D at 0x114ae69d0>]"
      ]
     },
     "execution_count": 65,
     "metadata": {},
     "output_type": "execute_result"
    },
    {
     "data": {
      "image/png": "[encoded data removed]",
      "text/plain": [
       "<matplotlib.figure.Figure at 0x113fbc190>"
      ]
     },
     "metadata": {},
     "output_type": "display_data"
    }
   ],
   "source": [
    "poly_data1 = polynomial_frame(set_1['sqft_living'], 15)\n",
    "features1 = poly_data1.columns.tolist()\n",
    "poly_data1['price'] = set_1['price']\n",
    "poly_model1 = Ridge(alpha=l2_penalty)\n",
    "poly_model1 = poly_model1.fit(poly_data1[features1], poly_data1['price'])\n",
    "print poly_model1.coef_, poly_model1.intercept_ \n",
    "poly_data1 = poly_data1.sort(['power_1'])\n",
    "plt.plot(poly_data1['power_1'],poly_data1['price'],'.', poly_data1['power_1'], poly_model1.predict(poly_data1[features1]), '-')"
   ]
  },
  {
   "cell_type": "code",
   "execution_count": 66,
   "metadata": {
    "collapsed": false,
    "scrolled": false
   },
   "outputs": [
    {
     "name": "stdout",
     "output_type": "stream",
     "text": [
      "[  2.22724365e+06   1.04485558e+06   4.31346585e+05   1.83466076e+05\n",
      "   8.32297380e+04   4.02731280e+04   2.05475768e+04   1.09081934e+04\n",
      "   5.95895445e+03   3.32265790e+03   1.88055059e+03   1.07637497e+03\n",
      "   6.21531091e+02   3.61475766e+02   2.11512292e+02] 211453.8451\n"
     ]
    },
    {
     "data": {
      "text/plain": [
       "[<matplotlib.lines.Line2D at 0x114e95bd0>,\n",
       " <matplotlib.lines.Line2D at 0x114e95cd0>]"
      ]
     },
     "execution_count": 66,
     "metadata": {},
     "output_type": "execute_result"
    },
    {
     "data": {
      "image/png": "[encoded data removed]",
      "text/plain": [
       "<matplotlib.figure.Figure at 0x1149e7290>"
      ]
     },
     "metadata": {},
     "output_type": "display_data"
    }
   ],
   "source": [
    "poly_data2 = polynomial_frame(set_2['sqft_living'], 15)\n",
    "features2 = poly_data2.columns.tolist()\n",
    "poly_data2['price'] = set_2['price']\n",
    "poly_model2 = Ridge(alpha=l2_penalty)\n",
    "poly_model2 = poly_model2.fit(poly_data2[features2], poly_data2['price'])\n",
    "print poly_model2.coef_, poly_model2.intercept_ \n",
    "poly_data2 = poly_data2.sort(['power_1'])\n",
    "plt.plot(poly_data2['power_1'],poly_data2['price'],'.', poly_data2['power_1'], poly_model2.predict(poly_data2[features2]), '-')"
   ]
  },
  {
   "cell_type": "code",
   "execution_count": 69,
   "metadata": {
    "collapsed": false
   },
   "outputs": [
    {
     "name": "stdout",
     "output_type": "stream",
     "text": [
      "[ 2363164.88089923  1224594.93697737   586505.4274649    298891.81233317\n",
      "   158401.0174921     78740.3530428     26829.52993014   -10569.61201141\n",
      "   -39300.06904199   -62268.52607895   -81102.78872      -96812.38447084\n",
      "  -110075.35708922  -121374.70196755  -131069.4090932 ] 192961.074531\n"
     ]
    },
    {
     "data": {
      "text/plain": [
       "[<matplotlib.lines.Line2D at 0x10b734410>,\n",
       " <matplotlib.lines.Line2D at 0x10b734b10>]"
      ]
     },
     "execution_count": 69,
     "metadata": {},
     "output_type": "execute_result"
    },
    {
     "data": {
      "image/png": "[encoded data removed]",
      "text/plain": [
       "<matplotlib.figure.Figure at 0x11498ea50>"
      ]
     },
     "metadata": {},
     "output_type": "display_data"
    }
   ],
   "source": [
    "poly_data3 = polynomial_frame(set_3['sqft_living'], 15)\n",
    "features3 = poly_data3.columns.tolist()\n",
    "poly_data3['price'] = set_3['price']\n",
    "poly_model3 = Ridge(alpha=l2_penalty)\n",
    "poly_model3 = poly_model3.fit(poly_data3[features3], poly_data3['price'])\n",
    "print poly_model3.coef_, poly_model3.intercept_ \n",
    "poly_data3 = poly_data3.sort(['power_1'])\n",
    "plt.plot(poly_data3['power_1'],poly_data3['price'],'.', poly_data3['power_1'], poly_model3.predict(poly_data3[features3]), '-')"
   ]
  },
  {
   "cell_type": "code",
   "execution_count": 70,
   "metadata": {
    "collapsed": false
   },
   "outputs": [
    {
     "name": "stdout",
     "output_type": "stream",
     "text": [
      "[ 2262135.96790952  1243925.14440269   621893.90648591   331429.97031501\n",
      "   192027.27246995   118936.21512478    77083.18960437    51437.83193096\n",
      "    34977.36809269    24085.05838092    16730.7965995     11696.93076769\n",
      "     8217.76889893     5795.84721916     4100.5857238 ] 199047.956146\n"
     ]
    },
    {
     "data": {
      "text/plain": [
       "[<matplotlib.lines.Line2D at 0x1128bc510>,\n",
       " <matplotlib.lines.Line2D at 0x1128bcc10>]"
      ]
     },
     "execution_count": 70,
     "metadata": {},
     "output_type": "execute_result"
    },
    {
     "data": {
      "image/png": "[encoded data removed]",
      "text/plain": [
       "<matplotlib.figure.Figure at 0x114eb9490>"
      ]
     },
     "metadata": {},
     "output_type": "display_data"
    }
   ],
   "source": [
    "poly_data4 = polynomial_frame(set_4['sqft_living'], 15)\n",
    "features4 = poly_data4.columns.tolist()\n",
    "poly_data4['price'] = set_4['price']\n",
    "poly_model4 = Ridge(alpha=l2_penalty)\n",
    "poly_model4 = poly_model4.fit(poly_data4[features4], poly_data4['price'])\n",
    "print poly_model4.coef_, poly_model4.intercept_ \n",
    "poly_data4 = poly_data4.sort(['power_1'])\n",
    "plt.plot(poly_data4['power_1'],poly_data4['price'],'.', poly_data4['power_1'], poly_model4.predict(poly_data4[features4]), '-')"
   ]
  },
  {
   "cell_type": "markdown",
   "metadata": {},
   "source": [
    "# Selecting an L2 penalty via cross-validation"
   ]
  },
  {
   "cell_type": "markdown",
   "metadata": {},
   "source": [
    "Just like the polynomial degree, the L2 penalty is a \"magic\" parameter we need to select. We could use the validation set approach as we did in the last module, but that approach has a major disadvantage: it leaves fewer observations available for training. **Cross-validation** seeks to overcome this issue by using all of the training set in a smart way.\n",
    "\n",
    "We will implement a kind of cross-validation called **k-fold cross-validation**. The method gets its name because it involves dividing the training set into k segments of roughtly equal size. Similar to the validation set method, we measure the validation error with one of the segments designated as the validation set. The major difference is that we repeat the process k times as follows:\n",
    "\n",
    "Set aside segment 0 as the validation set, and fit a model on rest of data, and evalutate it on this validation set<br>\n",
    "Set aside segment 1 as the validation set, and fit a model on rest of data, and evalutate it on this validation set<br>\n",
    "...<br>\n",
    "Set aside segment k-1 as the validation set, and fit a model on rest of data, and evalutate it on this validation set\n",
    "\n",
    "After this process, we compute the average of the k validation errors, and use it as an estimate of the generalization error. Notice that  all observations are used for both training and validation, as we iterate over segments of data. \n",
    "\n",
    "To estimate the generalization error well, it is crucial to shuffle the training data before dividing them into segments. GraphLab Create has a utility function for shuffling a given SFrame. We reserve 10% of the data as the test set and shuffle the remainder. (Make sure to use `seed=1` to get consistent answer.)"
   ]
  },
  {
   "cell_type": "code",
   "execution_count": 77,
   "metadata": {
    "collapsed": false
   },
   "outputs": [],
   "source": [
    "(train_valid, test) = train_test_split(sales, train_size=0.9, random_state=1)"
   ]
  },
  {
   "cell_type": "code",
   "execution_count": 78,
   "metadata": {
    "collapsed": true
   },
   "outputs": [],
   "source": [
    "from sklearn.utils import shuffle"
   ]
  },
  {
   "cell_type": "code",
   "execution_count": 79,
   "metadata": {
    "collapsed": false
   },
   "outputs": [],
   "source": [
    "train_valid_shuffled = shuffle(train_valid, random_state=1)"
   ]
  },
  {
   "cell_type": "markdown",
   "metadata": {},
   "source": [
    "Once the data is shuffled, we divide it into equal segments. Each segment should receive `n/k` elements, where `n` is the number of observations in the training set and `k` is the number of segments. Since the segment 0 starts at index 0 and contains `n/k` elements, it ends at index `(n/k)-1`. The segment 1 starts where the segment 0 left off, at index `(n/k)`. With `n/k` elements, the segment 1 ends at index `(n*2/k)-1`. Continuing in this fashion, we deduce that the segment `i` starts at index `(n*i/k)` and ends at `(n*(i+1)/k)-1`."
   ]
  },
  {
   "cell_type": "code",
   "execution_count": 80,
   "metadata": {
    "collapsed": false
   },
   "outputs": [
    {
     "name": "stdout",
     "output_type": "stream",
     "text": [
      "19451\n",
      "0 (0, 1944)\n",
      "1 (1945, 3889)\n",
      "2 (3890, 5834)\n",
      "3 (5835, 7779)\n",
      "4 (7780, 9724)\n",
      "5 (9725, 11669)\n",
      "6 (11670, 13614)\n",
      "7 (13615, 15559)\n",
      "8 (15560, 17504)\n",
      "9 (17505, 19450)\n"
     ]
    }
   ],
   "source": [
    "n = len(train_valid_shuffled)\n",
    "k = 10 # 10-fold cross-validation\n",
    "print n\n",
    "for i in xrange(k):\n",
    "    start = (n*i)/k\n",
    "    end = (n*(i+1))/k-1\n",
    "    print i, (start, end)"
   ]
  },
  {
   "cell_type": "markdown",
   "metadata": {
    "collapsed": false
   },
   "source": [
    "Let us familiarize ourselves with array slicing with SFrame. To extract a continuous slice from an SFrame, use colon in square brackets. For instance, the following cell extracts rows 0 to 9 of `train_valid_shuffled`. Notice that the first index (0) is included in the slice but the last index (10) is omitted."
   ]
  },
  {
   "cell_type": "code",
   "execution_count": 81,
   "metadata": {
    "collapsed": false
   },
   "outputs": [
    {
     "data": {
      "text/html": [
       "<div>\n",
       "<table border=\"1\" class=\"dataframe\">\n",
       "  <thead>\n",
       "    <tr style=\"text-align: right;\">\n",
       "      <th></th>\n",
       "      <th>id</th>\n",
       "      <th>date</th>\n",
       "      <th>price</th>\n",
       "      <th>bedrooms</th>\n",
       "      <th>bathrooms</th>\n",
       "      <th>sqft_living</th>\n",
       "      <th>sqft_lot</th>\n",
       "      <th>floors</th>\n",
       "      <th>waterfront</th>\n",
       "      <th>view</th>\n",
       "      <th>...</th>\n",
       "      <th>grade</th>\n",
       "      <th>sqft_above</th>\n",
       "      <th>sqft_basement</th>\n",
       "      <th>yr_built</th>\n",
       "      <th>yr_renovated</th>\n",
       "      <th>zipcode</th>\n",
       "      <th>lat</th>\n",
       "      <th>long</th>\n",
       "      <th>sqft_living15</th>\n",
       "      <th>sqft_lot15</th>\n",
       "    </tr>\n",
       "  </thead>\n",
       "  <tbody>\n",
       "    <tr>\n",
       "      <th>15663</th>\n",
       "      <td>6123600285</td>\n",
       "      <td>20141107T000000</td>\n",
       "      <td>185000.0</td>\n",
       "      <td>3</td>\n",
       "      <td>1.50</td>\n",
       "      <td>0.054340</td>\n",
       "      <td>7755</td>\n",
       "      <td>1.0</td>\n",
       "      <td>0</td>\n",
       "      <td>0</td>\n",
       "      <td>...</td>\n",
       "      <td>6</td>\n",
       "      <td>1010</td>\n",
       "      <td>0</td>\n",
       "      <td>1953</td>\n",
       "      <td>0</td>\n",
       "      <td>98148</td>\n",
       "      <td>47.4238</td>\n",
       "      <td>-122.332</td>\n",
       "      <td>1270</td>\n",
       "      <td>8350</td>\n",
       "    </tr>\n",
       "    <tr>\n",
       "      <th>6630</th>\n",
       "      <td>3323059027</td>\n",
       "      <td>20140528T000000</td>\n",
       "      <td>326000.0</td>\n",
       "      <td>3</td>\n",
       "      <td>2.75</td>\n",
       "      <td>0.107925</td>\n",
       "      <td>28000</td>\n",
       "      <td>1.0</td>\n",
       "      <td>0</td>\n",
       "      <td>0</td>\n",
       "      <td>...</td>\n",
       "      <td>7</td>\n",
       "      <td>1720</td>\n",
       "      <td>0</td>\n",
       "      <td>1958</td>\n",
       "      <td>0</td>\n",
       "      <td>98058</td>\n",
       "      <td>47.4375</td>\n",
       "      <td>-122.176</td>\n",
       "      <td>2000</td>\n",
       "      <td>41817</td>\n",
       "    </tr>\n",
       "    <tr>\n",
       "      <th>17288</th>\n",
       "      <td>5316100920</td>\n",
       "      <td>20140725T000000</td>\n",
       "      <td>2250000.0</td>\n",
       "      <td>3</td>\n",
       "      <td>4.25</td>\n",
       "      <td>0.366792</td>\n",
       "      <td>7800</td>\n",
       "      <td>2.5</td>\n",
       "      <td>0</td>\n",
       "      <td>2</td>\n",
       "      <td>...</td>\n",
       "      <td>11</td>\n",
       "      <td>4170</td>\n",
       "      <td>980</td>\n",
       "      <td>1954</td>\n",
       "      <td>0</td>\n",
       "      <td>98112</td>\n",
       "      <td>47.6288</td>\n",
       "      <td>-122.282</td>\n",
       "      <td>4270</td>\n",
       "      <td>7800</td>\n",
       "    </tr>\n",
       "    <tr>\n",
       "      <th>8276</th>\n",
       "      <td>4315700175</td>\n",
       "      <td>20140612T000000</td>\n",
       "      <td>440000.0</td>\n",
       "      <td>3</td>\n",
       "      <td>1.00</td>\n",
       "      <td>0.069434</td>\n",
       "      <td>5750</td>\n",
       "      <td>1.5</td>\n",
       "      <td>0</td>\n",
       "      <td>0</td>\n",
       "      <td>...</td>\n",
       "      <td>7</td>\n",
       "      <td>1210</td>\n",
       "      <td>0</td>\n",
       "      <td>1910</td>\n",
       "      <td>0</td>\n",
       "      <td>98136</td>\n",
       "      <td>47.5403</td>\n",
       "      <td>-122.391</td>\n",
       "      <td>1160</td>\n",
       "      <td>5000</td>\n",
       "    </tr>\n",
       "    <tr>\n",
       "      <th>2376</th>\n",
       "      <td>303000445</td>\n",
       "      <td>20140523T000000</td>\n",
       "      <td>175000.0</td>\n",
       "      <td>2</td>\n",
       "      <td>1.00</td>\n",
       "      <td>0.076226</td>\n",
       "      <td>44431</td>\n",
       "      <td>1.0</td>\n",
       "      <td>0</td>\n",
       "      <td>0</td>\n",
       "      <td>...</td>\n",
       "      <td>6</td>\n",
       "      <td>1300</td>\n",
       "      <td>0</td>\n",
       "      <td>1958</td>\n",
       "      <td>0</td>\n",
       "      <td>98001</td>\n",
       "      <td>47.3270</td>\n",
       "      <td>-122.267</td>\n",
       "      <td>1470</td>\n",
       "      <td>14850</td>\n",
       "    </tr>\n",
       "    <tr>\n",
       "      <th>6166</th>\n",
       "      <td>2130410050</td>\n",
       "      <td>20140513T000000</td>\n",
       "      <td>287000.0</td>\n",
       "      <td>3</td>\n",
       "      <td>2.25</td>\n",
       "      <td>0.090566</td>\n",
       "      <td>9600</td>\n",
       "      <td>1.0</td>\n",
       "      <td>0</td>\n",
       "      <td>0</td>\n",
       "      <td>...</td>\n",
       "      <td>7</td>\n",
       "      <td>1170</td>\n",
       "      <td>320</td>\n",
       "      <td>1987</td>\n",
       "      <td>0</td>\n",
       "      <td>98019</td>\n",
       "      <td>47.7378</td>\n",
       "      <td>-121.977</td>\n",
       "      <td>1590</td>\n",
       "      <td>10104</td>\n",
       "    </tr>\n",
       "    <tr>\n",
       "      <th>13087</th>\n",
       "      <td>7972601885</td>\n",
       "      <td>20150430T000000</td>\n",
       "      <td>350000.0</td>\n",
       "      <td>5</td>\n",
       "      <td>1.75</td>\n",
       "      <td>0.082264</td>\n",
       "      <td>7620</td>\n",
       "      <td>1.0</td>\n",
       "      <td>0</td>\n",
       "      <td>0</td>\n",
       "      <td>...</td>\n",
       "      <td>7</td>\n",
       "      <td>1180</td>\n",
       "      <td>200</td>\n",
       "      <td>1955</td>\n",
       "      <td>0</td>\n",
       "      <td>98106</td>\n",
       "      <td>47.5279</td>\n",
       "      <td>-122.345</td>\n",
       "      <td>1990</td>\n",
       "      <td>7620</td>\n",
       "    </tr>\n",
       "    <tr>\n",
       "      <th>111</th>\n",
       "      <td>3362400511</td>\n",
       "      <td>20150304T000000</td>\n",
       "      <td>570000.0</td>\n",
       "      <td>3</td>\n",
       "      <td>1.75</td>\n",
       "      <td>0.073208</td>\n",
       "      <td>3328</td>\n",
       "      <td>1.0</td>\n",
       "      <td>0</td>\n",
       "      <td>0</td>\n",
       "      <td>...</td>\n",
       "      <td>6</td>\n",
       "      <td>700</td>\n",
       "      <td>560</td>\n",
       "      <td>1905</td>\n",
       "      <td>0</td>\n",
       "      <td>98103</td>\n",
       "      <td>47.6823</td>\n",
       "      <td>-122.349</td>\n",
       "      <td>1380</td>\n",
       "      <td>3536</td>\n",
       "    </tr>\n",
       "    <tr>\n",
       "      <th>15851</th>\n",
       "      <td>7889600190</td>\n",
       "      <td>20150113T000000</td>\n",
       "      <td>229000.0</td>\n",
       "      <td>3</td>\n",
       "      <td>1.00</td>\n",
       "      <td>0.098113</td>\n",
       "      <td>6240</td>\n",
       "      <td>1.0</td>\n",
       "      <td>0</td>\n",
       "      <td>0</td>\n",
       "      <td>...</td>\n",
       "      <td>7</td>\n",
       "      <td>1060</td>\n",
       "      <td>530</td>\n",
       "      <td>1956</td>\n",
       "      <td>0</td>\n",
       "      <td>98146</td>\n",
       "      <td>47.4936</td>\n",
       "      <td>-122.337</td>\n",
       "      <td>1410</td>\n",
       "      <td>6240</td>\n",
       "    </tr>\n",
       "    <tr>\n",
       "      <th>17305</th>\n",
       "      <td>452002135</td>\n",
       "      <td>20150422T000000</td>\n",
       "      <td>1070000.0</td>\n",
       "      <td>4</td>\n",
       "      <td>2.50</td>\n",
       "      <td>0.184906</td>\n",
       "      <td>5000</td>\n",
       "      <td>2.0</td>\n",
       "      <td>0</td>\n",
       "      <td>0</td>\n",
       "      <td>...</td>\n",
       "      <td>9</td>\n",
       "      <td>2740</td>\n",
       "      <td>0</td>\n",
       "      <td>2012</td>\n",
       "      <td>0</td>\n",
       "      <td>98107</td>\n",
       "      <td>47.6740</td>\n",
       "      <td>-122.371</td>\n",
       "      <td>1660</td>\n",
       "      <td>5000</td>\n",
       "    </tr>\n",
       "  </tbody>\n",
       "</table>\n",
       "<p>10 rows × 21 columns</p>\n",
       "</div>"
      ],
      "text/plain": [
       "               id             date      price  bedrooms  bathrooms  \\\n",
       "15663  6123600285  20141107T000000   185000.0         3       1.50   \n",
       "6630   3323059027  20140528T000000   326000.0         3       2.75   \n",
       "17288  5316100920  20140725T000000  2250000.0         3       4.25   \n",
       "8276   4315700175  20140612T000000   440000.0         3       1.00   \n",
       "2376    303000445  20140523T000000   175000.0         2       1.00   \n",
       "6166   2130410050  20140513T000000   287000.0         3       2.25   \n",
       "13087  7972601885  20150430T000000   350000.0         5       1.75   \n",
       "111    3362400511  20150304T000000   570000.0         3       1.75   \n",
       "15851  7889600190  20150113T000000   229000.0         3       1.00   \n",
       "17305   452002135  20150422T000000  1070000.0         4       2.50   \n",
       "\n",
       "       sqft_living  sqft_lot  floors  waterfront  view     ...      grade  \\\n",
       "15663     0.054340      7755     1.0           0     0     ...          6   \n",
       "6630      0.107925     28000     1.0           0     0     ...          7   \n",
       "17288     0.366792      7800     2.5           0     2     ...         11   \n",
       "8276      0.069434      5750     1.5           0     0     ...          7   \n",
       "2376      0.076226     44431     1.0           0     0     ...          6   \n",
       "6166      0.090566      9600     1.0           0     0     ...          7   \n",
       "13087     0.082264      7620     1.0           0     0     ...          7   \n",
       "111       0.073208      3328     1.0           0     0     ...          6   \n",
       "15851     0.098113      6240     1.0           0     0     ...          7   \n",
       "17305     0.184906      5000     2.0           0     0     ...          9   \n",
       "\n",
       "       sqft_above  sqft_basement  yr_built  yr_renovated  zipcode      lat  \\\n",
       "15663        1010              0      1953             0    98148  47.4238   \n",
       "6630         1720              0      1958             0    98058  47.4375   \n",
       "17288        4170            980      1954             0    98112  47.6288   \n",
       "8276         1210              0      1910             0    98136  47.5403   \n",
       "2376         1300              0      1958             0    98001  47.3270   \n",
       "6166         1170            320      1987             0    98019  47.7378   \n",
       "13087        1180            200      1955             0    98106  47.5279   \n",
       "111           700            560      1905             0    98103  47.6823   \n",
       "15851        1060            530      1956             0    98146  47.4936   \n",
       "17305        2740              0      2012             0    98107  47.6740   \n",
       "\n",
       "          long  sqft_living15  sqft_lot15  \n",
       "15663 -122.332           1270        8350  \n",
       "6630  -122.176           2000       41817  \n",
       "17288 -122.282           4270        7800  \n",
       "8276  -122.391           1160        5000  \n",
       "2376  -122.267           1470       14850  \n",
       "6166  -121.977           1590       10104  \n",
       "13087 -122.345           1990        7620  \n",
       "111   -122.349           1380        3536  \n",
       "15851 -122.337           1410        6240  \n",
       "17305 -122.371           1660        5000  \n",
       "\n",
       "[10 rows x 21 columns]"
      ]
     },
     "execution_count": 81,
     "metadata": {},
     "output_type": "execute_result"
    }
   ],
   "source": [
    "train_valid_shuffled[0:10] # rows 0 to 9"
   ]
  },
  {
   "cell_type": "markdown",
   "metadata": {},
   "source": [
    "Now we are ready to implement k-fold cross-validation. Write a function that computes k validation errors by designating each of the k segments as the validation set. It accepts as parameters (i) `k`, (ii) `l2_penalty`, (iii) dataframe, (iv) name of output column (e.g. `price`) and (v) list of feature names. The function returns the average validation error using k segments as validation sets.\n",
    "\n",
    "* For each i in [0, 1, ..., k-1]:\n",
    "  * Compute starting and ending indices of segment i and call 'start' and 'end'\n",
    "  * Form validation set by taking a slice (start:end+1) from the data.\n",
    "  * Form training set by appending slice (end+1:n) to the end of slice (0:start).\n",
    "  * Train a linear model using training set just formed, with a given l2_penalty\n",
    "  * Compute validation error using validation set just formed"
   ]
  },
  {
   "cell_type": "code",
   "execution_count": 82,
   "metadata": {
    "collapsed": false
   },
   "outputs": [],
   "source": [
    "def k_fold_cross_validation(k, l2_penalty, poly_data, output_name, features_list):\n",
    "    n = len(poly_data)\n",
    "    vali_error = 0\n",
    "    for i in xrange(k):\n",
    "        start = (n * i) / k\n",
    "        end = (n*(i+1)/k)-1\n",
    "        vali_data = poly_data[start:end+1]\n",
    "        first_train_part = poly_data[0:start]\n",
    "        second_train_part = poly_data[end+1:n]\n",
    "        train_data = first_train_part.append(second_train_part)\n",
    "        ridge = Ridge(alpha=l2_penalty)\n",
    "        model = ridge.fit(train_data[features_list], train_data[output_name])\n",
    "        residual = vali_data[output_name] - model.predict(vali_data[features_list])\n",
    "        vali_error += sum(residual * residual)\n",
    "    return vali_error / k"
   ]
  },
  {
   "cell_type": "markdown",
   "metadata": {},
   "source": [
    "Once we have a function to compute the average validation error for a model, we can write a loop to find the model that minimizes the average validation error. Write a loop that does the following:\n",
    "* We will again be aiming to fit a 15th-order polynomial model using the `sqft_living` input\n",
    "* For `l2_penalty` in [10^1, 10^1.5, 10^2, 10^2.5, ..., 10^7] (to get this in Python, you can use this Numpy function: `np.logspace(1, 7, num=13)`.)\n",
    "    * Run 10-fold cross-validation with `l2_penalty`\n",
    "* Report which L2 penalty produced the lowest average validation error.\n",
    "\n",
    "Note: since the degree of the polynomial is now fixed to 15, to make things faster, you should generate polynomial features in advance and re-use them throughout the loop. Make sure to use `train_valid_shuffled` when generating polynomial features!"
   ]
  },
  {
   "cell_type": "code",
   "execution_count": 86,
   "metadata": {
    "collapsed": false
   },
   "outputs": [
    {
     "name": "stdout",
     "output_type": "stream",
     "text": [
      "l2_penalty: 10.0model_error: 1.29226800354e+14\n",
      "l2_penalty: 31.6227766017model_error: 1.35819629322e+14\n",
      "l2_penalty: 100.0model_error: 1.61756650888e+14\n",
      "l2_penalty: 316.227766017model_error: 2.0511601246e+14\n",
      "l2_penalty: 1000.0model_error: 2.37717644881e+14\n",
      "l2_penalty: 3162.27766017model_error: 2.5242914997e+14\n",
      "l2_penalty: 10000.0model_error: 2.57701459908e+14\n",
      "l2_penalty: 31622.7766017model_error: 2.59438633272e+14\n",
      "l2_penalty: 100000.0model_error: 2.59995248674e+14\n",
      "l2_penalty: 316227.766017model_error: 2.60172002431e+14\n",
      "l2_penalty: 1000000.0model_error: 2.60227970823e+14\n",
      "l2_penalty: 3162277.66017model_error: 2.60245676987e+14\n",
      "l2_penalty: 10000000.0model_error: 2.60251276908e+14\n",
      "lowest_vali_error: 1.29226800354e+14\n",
      "lowest_l2: 10.0\n"
     ]
    }
   ],
   "source": [
    "(train_valid, test) = train_test_split(sales, train_size=0.9, random_state=1)\n",
    "train_valid_shuffled = shuffle(train_valid, random_state=1)\n",
    "poly_data = polynomial_frame(train_valid_shuffled['sqft_living'], 15)\n",
    "features = poly_data.columns.tolist()\n",
    "poly_data['price'] = train_valid_shuffled['price']\n",
    "\n",
    "penalty_list = np.logspace(1, 7, num=13)\n",
    "lowest_vali_error = float('inf')\n",
    "lowest_l2 = 0\n",
    "error_list = []\n",
    "for l2_penalty in penalty_list:\n",
    "    model_error = k_fold_cross_validation(10, l2_penalty, poly_data, 'price', features)\n",
    "    error_list.append(model_error)\n",
    "    print 'l2_penalty: ' + str(l2_penalty) + \"model_error: \" + str(model_error)\n",
    "    if model_error <= lowest_vali_error:\n",
    "        lowest_vali_error = model_error\n",
    "        lowest_l2 = l2_penalty\n",
    "print 'lowest_vali_error: ' + str(lowest_vali_error)\n",
    "print 'lowest_l2: ' + str(lowest_l2)"
   ]
  },
  {
   "cell_type": "markdown",
   "metadata": {},
   "source": [
    "***QUIZ QUESTIONS:  What is the best value for the L2 penalty according to 10-fold validation?***"
   ]
  },
  {
   "cell_type": "markdown",
   "metadata": {},
   "source": [
    "You may find it useful to plot the k-fold cross-validation errors you have obtained to better understand the behavior of the method.  "
   ]
  },
  {
   "cell_type": "code",
   "execution_count": 88,
   "metadata": {
    "collapsed": false
   },
   "outputs": [
    {
     "data": {
      "image/png": "[encoded data removed]",
      "text/plain": [
       "<matplotlib.figure.Figure at 0x115468410>"
      ]
     },
     "metadata": {},
     "output_type": "display_data"
    }
   ],
   "source": [
    "# Plot the l2_penalty values in the x axis and the cross-validation error in the y axis.\n",
    "# Using plt.xscale('log') will make your plot more intuitive.\n",
    "plt.plot(penalty_list, error_list, '-')\n",
    "plt.xscale('log')"
   ]
  },
  {
   "cell_type": "markdown",
   "metadata": {},
   "source": [
    "Once you found the best value for the L2 penalty using cross-validation, it is important to retrain a final model on all of the training data using this value of `l2_penalty`.  This way, your final model will be trained on the entire dataset."
   ]
  },
  {
   "cell_type": "code",
   "execution_count": 92,
   "metadata": {
    "collapsed": false
   },
   "outputs": [],
   "source": [
    "final_data = polynomial_frame(train_valid['sqft_living'], 15)\n",
    "final_data['price'] = train_valid['price']\n",
    "ridge = Ridge(alpha=10)\n",
    "final_model = ridge.fit(final_data[features], final_data['price'])"
   ]
  },
  {
   "cell_type": "markdown",
   "metadata": {},
   "source": [
    "***QUIZ QUESTION: Using the best L2 penalty found above, train a model using all training data. What is the RSS on the TEST data of the model you learn with this L2 penalty? ***"
   ]
  },
  {
   "cell_type": "code",
   "execution_count": 94,
   "metadata": {
    "collapsed": false
   },
   "outputs": [],
   "source": [
    "test_data = polynomial_frame(test['sqft_living'], 15)\n",
    "test_data['price'] = test['price']\n",
    "test_residual = test['price'] - final_model.predict(test_data[features])\n",
    "test_rss = sum(test_residual * test_residual)"
   ]
  },
  {
   "cell_type": "code",
   "execution_count": 95,
   "metadata": {
    "collapsed": false
   },
   "outputs": [
    {
     "data": {
      "text/plain": [
       "'1.46358016943e+14'"
      ]
     },
     "execution_count": 95,
     "metadata": {},
     "output_type": "execute_result"
    }
   ],
   "source": [
    "str(test_rss)"
   ]
  }
 ],
 "metadata": {
  "kernelspec": {
   "display_name": "Python 2",
   "language": "python",
   "name": "python2"
  },
  "language_info": {
   "codemirror_mode": {
    "name": "ipython",
    "version": 2
   },
   "file_extension": ".py",
   "mimetype": "text/x-python",
   "name": "python",
   "nbconvert_exporter": "python",
   "pygments_lexer": "ipython2",
   "version": "2.7.10"
  },
  "widgets": {
   "state": {},
   "version": "1.1.2"
  }
 },
 "nbformat": 4,
 "nbformat_minor": 0
}
