{
 "cells": [
  {
   "cell_type": "code",
   "execution_count": 1,
   "metadata": {
    "collapsed": false
   },
   "outputs": [],
   "source": [
    "import numpy as np\n",
    "import pandas as pd\n",
    "import matplotlib.pyplot as plt\n",
    "%matplotlib inline\n",
    "from sklearn.linear_model import LinearRegression"
   ]
  },
  {
   "cell_type": "markdown",
   "metadata": {},
   "source": [
    "#Load some house value vs. crime rate data\n",
    "\n",
    "Dataset is from Philadelphia, PA and includes average house sales price in a number of neighborhoods.  The attributes of each neighborhood we have include the crime rate ('CrimeRate'), miles from Center City ('MilesPhila'), town name ('Name'), and county name ('County')."
   ]
  },
  {
   "cell_type": "code",
   "execution_count": 2,
   "metadata": {
    "collapsed": false
   },
   "outputs": [],
   "source": [
    "sales = pd.read_csv('Philadelphia_Crime_Rate_noNA.csv')"
   ]
  },
  {
   "cell_type": "code",
   "execution_count": 3,
   "metadata": {
    "collapsed": false
   },
   "outputs": [
    {
     "name": "stdout",
     "output_type": "stream",
     "text": [
      "    HousePrice  HsPrc ($10,000)  CrimeRate  MilesPhila  PopChg  \\\n",
      "0       140463          14.0463       29.7        10.0    -1.0   \n",
      "1       113033          11.3033       24.1        18.0     4.0   \n",
      "2       124186          12.4186       19.5        25.0     8.0   \n",
      "3       110490          11.0490       49.4        25.0     2.7   \n",
      "4        79124           7.9124       54.1        19.0     3.9   \n",
      "5        92634           9.2634       48.6        20.0     0.6   \n",
      "6        89246           8.9246       30.8        15.0    -2.6   \n",
      "7       195145          19.5145       10.8        20.0    -3.5   \n",
      "8       297342          29.7342       20.2        14.0     0.6   \n",
      "9       264298          26.4298       20.4        26.0     6.0   \n",
      "10      134342          13.4342       17.3        31.0     4.2   \n",
      "11      147600          14.7600       50.3         9.0    -1.0   \n",
      "12       77370           7.7370       34.2        10.0    -1.2   \n",
      "13      170822          17.0822       33.7        32.0     2.4   \n",
      "14       40642           4.0642       45.7        15.0     0.0   \n",
      "15       71359           7.1359       22.3         8.0     1.6   \n",
      "16      104923          10.4923       48.1        21.0     6.9   \n",
      "17      190317          19.0317       19.4        26.0     1.9   \n",
      "18      215512          21.5512       71.9        26.0     5.8   \n",
      "19      178105          17.8105       45.1        25.0     2.3   \n",
      "20      131025          13.1025       31.3        19.0    -1.8   \n",
      "21      149844          14.9844       24.9        22.0     6.4   \n",
      "22      170556          17.0556       27.2        30.0     4.6   \n",
      "23      280969          28.0969       17.7        14.0     2.9   \n",
      "24      114233          11.4233       29.0        30.0     1.3   \n",
      "25       74502           7.4502       21.4        15.0    -3.2   \n",
      "26      475112          47.5112       28.6        12.0     NaN   \n",
      "27       97167           9.7167       29.3        10.0     0.2   \n",
      "28      114572          11.4572       17.5        20.0     5.2   \n",
      "29      436348          43.6348       16.5        10.0    -0.7   \n",
      "..         ...              ...        ...         ...     ...   \n",
      "69      100231          10.0231       24.1        15.0     1.9   \n",
      "70       95831           9.5831       21.2        32.0     3.2   \n",
      "71      229711          22.9711        9.8        22.0     5.3   \n",
      "72       74308           7.4308       29.9         7.0     1.8   \n",
      "73      259506          25.9506        7.2        40.0    17.4   \n",
      "74      159573          15.9573       19.4        15.0    -2.1   \n",
      "75      147176          14.7176       41.1        12.0    -1.7   \n",
      "76      205732          20.5732       11.2        12.0    -0.2   \n",
      "77      215783          21.5783       21.2        20.0     1.1   \n",
      "78      116710          11.6710       42.8        20.0    12.9   \n",
      "79      359112          35.9112        9.4        36.0     4.0   \n",
      "80      189959          18.9959       61.7        22.0    -2.1   \n",
      "81      133198          13.3198       19.4        22.0    -2.0   \n",
      "82      242821          24.2821        6.6        21.0     1.6   \n",
      "83      142811          14.2811       15.9        20.0    -1.6   \n",
      "84      200498          20.0498       18.8        36.0    11.0   \n",
      "85      199065          19.9065       13.2        20.0     7.8   \n",
      "86       93648           9.3648       34.5         8.0    -0.7   \n",
      "87      163001          16.3001       22.1        50.0     8.0   \n",
      "88      436348          43.6348       22.1        15.0     1.3   \n",
      "89      124478          12.4478       71.9        22.0     4.6   \n",
      "90      168276          16.8276       31.9        26.0     5.9   \n",
      "91      114157          11.4157       44.6        38.0    14.6   \n",
      "92      130088          13.0088       28.6        19.0    -0.2   \n",
      "93      152624          15.2624       24.0        19.0    23.1   \n",
      "94      174232          17.4232       13.8        25.0     4.7   \n",
      "95      196515          19.6515       29.9        16.0     1.8   \n",
      "96      232714          23.2714        9.9        21.0     0.2   \n",
      "97      245920          24.5920       22.6        10.0     0.3   \n",
      "98      130953          13.0953       13.0        24.0     5.2   \n",
      "\n",
      "              Name    County  \n",
      "0         Abington  Montgome  \n",
      "1           Ambler  Montgome  \n",
      "2            Aston  Delaware  \n",
      "3         Bensalem     Bucks  \n",
      "4       Bristol B.     Bucks  \n",
      "5       Bristol T.     Bucks  \n",
      "6       Brookhaven  Delaware  \n",
      "7       Bryn Athyn  Montgome  \n",
      "8        Bryn Mawr  Montgome  \n",
      "9       Buckingham     Bucks  \n",
      "10        Chalfont     Bucks  \n",
      "11      Cheltenham  Montgome  \n",
      "12         Clifton  Delaware  \n",
      "13    Collegeville  Montgome  \n",
      "14      Darby Bor.  Delaware  \n",
      "15      Darby Town  Delaware  \n",
      "16     Downingtown   Chester  \n",
      "17      Doylestown     Bucks  \n",
      "18     E. Bradford   Chester  \n",
      "19       E. Goshen   Chester  \n",
      "20     E. Norriton  Montgome  \n",
      "21     E. Pikeland   Chester  \n",
      "22    E. Whiteland   Chester  \n",
      "23        Easttown   Chester  \n",
      "24      Falls Town     Bucks  \n",
      "25       Follcroft  Delaware  \n",
      "26        Gladwyne  Montgome  \n",
      "27       Glenolden  Delaware  \n",
      "28         Hatboro  Montgome  \n",
      "29       Haverford  Delaware  \n",
      "..             ...       ...  \n",
      "69     Ridley Town  Delaware  \n",
      "70      Royersford  Montgome  \n",
      "71      Schuylkill   Chester  \n",
      "72     Sharon Hill  Delaware  \n",
      "73        Solebury     Bucks  \n",
      "74     Springfield  Montgome  \n",
      "75     Springfield  Delaware  \n",
      "76      Swarthmore  Delaware  \n",
      "77       Tredyffin   Chester  \n",
      "78   U. Chichester  Delaware  \n",
      "79    U. Makefield     Bucks  \n",
      "80       U. Merion  Montgome  \n",
      "81     U. Moreland  Montgome  \n",
      "82   U. Providence  Delaware  \n",
      "83  U. Southampton     Bucks  \n",
      "84      U. Uwchlan   Chester  \n",
      "85     Upper Darby  Montgome  \n",
      "86     Upper Darby  Delaware  \n",
      "87      Uwchlan T.   Chester  \n",
      "88       Villanova  Montgome  \n",
      "89      W. Chester   Chester  \n",
      "90       W. Goshen   Chester  \n",
      "91    W. Whiteland   Chester  \n",
      "92      Warminster     Bucks  \n",
      "93      Warrington     Bucks  \n",
      "94        Westtown   Chester  \n",
      "95      Whitemarsh  Montgome  \n",
      "96      Willistown   Chester  \n",
      "97       Wynnewood  Montgome  \n",
      "98         Yardley     Bucks  \n",
      "\n",
      "[99 rows x 7 columns]\n"
     ]
    }
   ],
   "source": [
    "print sales"
   ]
  },
  {
   "cell_type": "markdown",
   "metadata": {},
   "source": [
    "The house price in a town is correlated with the crime rate of that town. Low crime towns tend to be associated with higher house prices and vice versa."
   ]
  },
  {
   "cell_type": "code",
   "execution_count": 4,
   "metadata": {
    "collapsed": false
   },
   "outputs": [],
   "source": [
    "linearRegression = LinearRegression()\n",
    "crime_model = linearRegression.fit(sales[['CrimeRate']], sales['HousePrice'])"
   ]
  },
  {
   "cell_type": "code",
   "execution_count": 5,
   "metadata": {
    "collapsed": false,
    "scrolled": true
   },
   "outputs": [
    {
     "data": {
      "text/plain": [
       "[<matplotlib.lines.Line2D at 0x10c400150>,\n",
       " <matplotlib.lines.Line2D at 0x10c400890>]"
      ]
     },
     "execution_count": 5,
     "metadata": {},
     "output_type": "execute_result"
    },
    {
     "data": {
      "image/png": "[encoded data removed]",
      "text/plain": [
       "<matplotlib.figure.Figure at 0x10558fc50>"
      ]
     },
     "metadata": {},
     "output_type": "display_data"
    }
   ],
   "source": [
    "plt.plot(sales['CrimeRate'],sales['HousePrice'],'.',\n",
    "        sales['CrimeRate'],crime_model.predict(sales[['CrimeRate']]),'-')"
   ]
  },
  {
   "cell_type": "markdown",
   "metadata": {},
   "source": [
    "Above: blue dots are original data, green line is the fit from the simple regression."
   ]
  },
  {
   "cell_type": "markdown",
   "metadata": {},
   "source": [
    "# Remove Center City and redo the analysis"
   ]
  },
  {
   "cell_type": "markdown",
   "metadata": {},
   "source": [
    "Center City is the one observation with an extremely high crime rate, yet house prices are not very low.  This point does not follow the trend of the rest of the data very well.  A question is how much including Center City is influencing our fit on the other datapoints.  Let's remove this datapoint and see what happens."
   ]
  },
  {
   "cell_type": "code",
   "execution_count": 6,
   "metadata": {
    "collapsed": true
   },
   "outputs": [],
   "source": [
    "sales_noCC = sales[sales['MilesPhila'] != 0.0]"
   ]
  },
  {
   "cell_type": "markdown",
   "metadata": {},
   "source": [
    "### Refit our simple regression model on this modified dataset:"
   ]
  },
  {
   "cell_type": "code",
   "execution_count": 7,
   "metadata": {
    "collapsed": false
   },
   "outputs": [],
   "source": [
    "linearRegression = LinearRegression()\n",
    "crime_model_noCC = linearRegression.fit(sales_noCC[['CrimeRate']], sales_noCC['HousePrice'])"
   ]
  },
  {
   "cell_type": "markdown",
   "metadata": {},
   "source": [
    "### Look at the fit:"
   ]
  },
  {
   "cell_type": "code",
   "execution_count": 8,
   "metadata": {
    "collapsed": false
   },
   "outputs": [
    {
     "data": {
      "text/plain": [
       "[<matplotlib.lines.Line2D at 0x10c561850>,\n",
       " <matplotlib.lines.Line2D at 0x10c561f50>]"
      ]
     },
     "execution_count": 8,
     "metadata": {},
     "output_type": "execute_result"
    },
    {
     "data": {
      "image/png": "[encoded data removed]",
      "text/plain": [
       "<matplotlib.figure.Figure at 0x10c438990>"
      ]
     },
     "metadata": {},
     "output_type": "display_data"
    }
   ],
   "source": [
    "plt.plot(sales_noCC['CrimeRate'],sales_noCC['HousePrice'],'.',\n",
    "        sales_noCC['CrimeRate'],crime_model_noCC.predict(sales_noCC[['CrimeRate']]),'-')"
   ]
  },
  {
   "cell_type": "markdown",
   "metadata": {},
   "source": [
    "# Compare coefficients for full-data fit versus no-Center-City fit"
   ]
  },
  {
   "cell_type": "markdown",
   "metadata": {},
   "source": [
    "Visually, the fit seems different, but let's quantify this by examining the estimated coefficients of our original fit and that of the modified dataset with Center City removed."
   ]
  },
  {
   "cell_type": "code",
   "execution_count": 9,
   "metadata": {
    "collapsed": false
   },
   "outputs": [
    {
     "data": {
      "text/plain": [
       "(array([-576.90812768]), 176629.40810695427)"
      ]
     },
     "execution_count": 9,
     "metadata": {},
     "output_type": "execute_result"
    }
   ],
   "source": [
    "crime_model.coef_, crime_model.intercept_"
   ]
  },
  {
   "cell_type": "code",
   "execution_count": 10,
   "metadata": {
    "collapsed": false
   },
   "outputs": [
    {
     "data": {
      "text/plain": [
       "(array([-2288.68942995]), 225233.55183900378)"
      ]
     },
     "execution_count": 10,
     "metadata": {},
     "output_type": "execute_result"
    }
   ],
   "source": [
    "crime_model_noCC.coef_, crime_model_noCC.intercept_"
   ]
  },
  {
   "cell_type": "markdown",
   "metadata": {},
   "source": [
    "Above: We see that for the \"no Center City\" version, per unit increase in crime, the predicted decrease in house prices is 2,287.  In contrast, for the original dataset, the drop is only 576 per unit increase in crime.  This is significantly different!"
   ]
  },
  {
   "cell_type": "markdown",
   "metadata": {},
   "source": [
    "###High leverage points: \n",
    "Center City is said to be a \"high leverage\" point because it is at an extreme x value where there are not other observations.  As a result, recalling the closed-form solution for simple regression, this point has the *potential* to dramatically change the least squares line since the center of x mass is heavily influenced by this one point and the least squares line will try to fit close to that outlying (in x) point.  If a high leverage point follows the trend of the other data, this might not have much effect.  On the other hand, if this point somehow differs, it can be strongly influential in the resulting fit.\n",
    "\n",
    "###Influential observations:  \n",
    "An influential observation is one where the removal of the point significantly changes the fit.  As discussed above, high leverage points are good candidates for being influential observations, but need not be.  Other observations that are *not* leverage points can also be influential observations (e.g., strongly outlying in y even if x is a typical value)."
   ]
  },
  {
   "cell_type": "markdown",
   "metadata": {},
   "source": [
    "# Remove high-value outlier neighborhoods and redo analysis"
   ]
  },
  {
   "cell_type": "markdown",
   "metadata": {},
   "source": [
    "Based on the discussion above, a question is whether the outlying high-value towns are strongly influencing the fit.  Let's remove them and see what happens."
   ]
  },
  {
   "cell_type": "code",
   "execution_count": 11,
   "metadata": {
    "collapsed": false
   },
   "outputs": [],
   "source": [
    "sales_nohighend = sales_noCC[sales_noCC['HousePrice'] < 350000]\n",
    "linearRegression = LinearRegression()\n",
    "crime_model_nohighend = linearRegression.fit(sales_nohighend[['CrimeRate']], sales_nohighend['HousePrice'])"
   ]
  },
  {
   "cell_type": "markdown",
   "metadata": {},
   "source": [
    "### Do the coefficients change much?"
   ]
  },
  {
   "cell_type": "code",
   "execution_count": 12,
   "metadata": {
    "collapsed": false
   },
   "outputs": [
    {
     "data": {
      "text/plain": [
       "(array([-2288.68942995]), 225233.55183900378)"
      ]
     },
     "execution_count": 12,
     "metadata": {},
     "output_type": "execute_result"
    }
   ],
   "source": [
    "crime_model_noCC.coef_, crime_model_noCC.intercept_"
   ]
  },
  {
   "cell_type": "code",
   "execution_count": 13,
   "metadata": {
    "collapsed": false
   },
   "outputs": [
    {
     "data": {
      "text/plain": [
       "(array([-1838.56264859]), 199098.85266980447)"
      ]
     },
     "execution_count": 13,
     "metadata": {},
     "output_type": "execute_result"
    }
   ],
   "source": [
    "crime_model_nohighend.coef_, crime_model_nohighend.intercept_"
   ]
  },
  {
   "cell_type": "markdown",
   "metadata": {},
   "source": [
    "Above: We see that removing the outlying high-value neighborhoods has *some* effect on the fit, but not nearly as much as our high-leverage Center City datapoint."
   ]
  }
 ],
 "metadata": {
  "kernelspec": {
   "display_name": "Python 2",
   "language": "python",
   "name": "python2"
  },
  "language_info": {
   "codemirror_mode": {
    "name": "ipython",
    "version": 2
   },
   "file_extension": ".py",
   "mimetype": "text/x-python",
   "name": "python",
   "nbconvert_exporter": "python",
   "pygments_lexer": "ipython2",
   "version": "2.7.10"
  },
  "widgets": {
   "state": {},
   "version": "1.1.2"
  }
 },
 "nbformat": 4,
 "nbformat_minor": 0
}
