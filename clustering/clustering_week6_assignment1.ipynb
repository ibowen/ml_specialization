{
 "cells": [
  {
   "cell_type": "code",
   "execution_count": 2,
   "metadata": {
    "collapsed": true
   },
   "outputs": [],
   "source": [
    "import sframe                                     # see below for install instruction"
   ]
  },
  {
   "cell_type": "code",
   "execution_count": 1,
   "metadata": {
    "collapsed": true
   },
   "outputs": [],
   "source": [
    "import matplotlib.pyplot as plt\n",
    "import numpy as np\n",
    "from scipy.sparse import csr_matrix\n",
    "from sklearn.cluster import KMeans                # we'll be using scikit-learn's KMeans for this assignment\n",
    "from sklearn.metrics import pairwise_distances\n",
    "from sklearn.preprocessing import normalize\n",
    "%matplotlib inline"
   ]
  },
  {
   "cell_type": "code",
   "execution_count": 3,
   "metadata": {
    "collapsed": false
   },
   "outputs": [
    {
     "name": "stderr",
     "output_type": "stream",
     "text": [
      "[INFO] sframe.cython.cy_server: SFrame v1.10 started. Logging /tmp/sframe_server_1468954396.log\n"
     ]
    }
   ],
   "source": [
    "wiki = sframe.SFrame('./data/people_wiki.gl/')"
   ]
  },
  {
   "cell_type": "code",
   "execution_count": 4,
   "metadata": {
    "collapsed": false
   },
   "outputs": [],
   "source": [
    "def load_sparse_csr(filename):\n",
    "    loader = np.load(filename)\n",
    "    data = loader['data']\n",
    "    indices = loader['indices']\n",
    "    indptr = loader['indptr']\n",
    "    shape = loader['shape']\n",
    "    \n",
    "    return csr_matrix( (data, indices, indptr), shape)\n",
    "\n",
    "tf_idf = load_sparse_csr('./data/people_wiki_tf_idf.npz')\n",
    "map_index_to_word = sframe.SFrame('./data/people_wiki_map_index_to_word.gl/')"
   ]
  },
  {
   "cell_type": "markdown",
   "metadata": {},
   "source": [
    "### Bipartition the Wikipedia dataset using k-means\n",
    "\n",
    "- Recall our workflow for clustering text data with k-means:\n",
    "\n",
    "    - Load the dataframe containing a dataset, such as the Wikipedia text dataset.\n",
    "    - Extract the data matrix from the dataframe.\n",
    "    - Run k-means on the data matrix with some value of k.\n",
    "    - Visualize the clustering results using the centroids, cluster assignments, and the original dataframe. We keep the original dataframe around because the data matrix does not keep auxiliary information (in the case of the text dataset, the title of each article).\n",
    "\n",
    "- Let us modify the workflow to perform bipartitioning:\n",
    "\n",
    "    - Load the dataframe containing a dataset, such as the Wikipedia text dataset.\n",
    "    - Extract the data matrix from the dataframe.\n",
    "    - Run k-means on the data matrix with k=2.\n",
    "    - Divide the data matrix into two parts using the cluster assignments.\n",
    "    - Divide the dataframe into two parts, again using the cluster assignments. This step is necessary to allow for visualization.\n",
    "    - Visualize the bipartition of data."
   ]
  },
  {
   "cell_type": "markdown",
   "metadata": {},
   "source": [
    "Each parent cluster is bipartitioned to produce two child clusters. At the very top is the root cluster, which consists of the entire dataset.\n",
    "\n",
    "Now we write a wrapper function to bipartition a given cluster using k-means. There are three variables that together comprise the cluster:\n",
    "\n",
    "- dataframe: a subset of the original dataframe that correspond to member rows of the cluster\n",
    "- matrix: same set of rows, stored in sparse matrix format\n",
    "- centroid: the centroid of the cluster (not applicable for the root cluster)\n",
    "Rather than passing around the three variables separately, we package them into a Python dictionary. The wrapper function takes a single dictionary (representing a parent cluster) and returns two dictionaries (representing the child clusters)."
   ]
  },
  {
   "cell_type": "code",
   "execution_count": 5,
   "metadata": {
    "collapsed": true
   },
   "outputs": [],
   "source": [
    "def bipartition(cluster, maxiter=400, num_runs=4, seed=None):\n",
    "    '''cluster: should be a dictionary containing the following keys\n",
    "                * dataframe: original dataframe\n",
    "                * matrix:    same data, in matrix format\n",
    "                * centroid:  centroid for this particular cluster'''\n",
    "    \n",
    "    data_matrix = cluster['matrix']\n",
    "    dataframe   = cluster['dataframe']\n",
    "    \n",
    "    # Run k-means on the data matrix with k=2. We use scikit-learn here to simplify workflow.\n",
    "    kmeans_model = KMeans(n_clusters=2, max_iter=maxiter, n_init=num_runs, random_state=seed, n_jobs=-1)    \n",
    "    kmeans_model.fit(data_matrix)\n",
    "    centroids, cluster_assignment = kmeans_model.cluster_centers_, kmeans_model.labels_\n",
    "    \n",
    "    # Divide the data matrix into two parts using the cluster assignments.\n",
    "    data_matrix_left_child, data_matrix_right_child = data_matrix[cluster_assignment==0], \\\n",
    "                                                      data_matrix[cluster_assignment==1]\n",
    "    \n",
    "    # Divide the dataframe into two parts, again using the cluster assignments.\n",
    "    cluster_assignment_sa = sframe.SArray(cluster_assignment) # minor format conversion\n",
    "    dataframe_left_child, dataframe_right_child     = dataframe[cluster_assignment_sa==0], \\\n",
    "                                                      dataframe[cluster_assignment_sa==1]\n",
    "        \n",
    "    \n",
    "    # Package relevant variables for the child clusters\n",
    "    cluster_left_child  = {'matrix': data_matrix_left_child,\n",
    "                           'dataframe': dataframe_left_child,\n",
    "                           'centroid': centroids[0]}\n",
    "    cluster_right_child = {'matrix': data_matrix_right_child,\n",
    "                           'dataframe': dataframe_right_child,\n",
    "                           'centroid': centroids[1]}\n",
    "    \n",
    "    return (cluster_left_child, cluster_right_child)"
   ]
  },
  {
   "cell_type": "markdown",
   "metadata": {},
   "source": [
    "The following cell performs bipartitioning of the Wikipedia dataset. Allow 20-60 seconds to finish.\n",
    "\n",
    "Note. For the purpose of the assignment, we set an explicit seed (seed=1) to produce identical outputs for every run. In pratical applications, you might want to use different random seeds for all runs."
   ]
  },
  {
   "cell_type": "code",
   "execution_count": 6,
   "metadata": {
    "collapsed": true
   },
   "outputs": [],
   "source": [
    "wiki_data = {'matrix': tf_idf, 'dataframe': wiki} # no 'centroid' for the root cluster\n",
    "left_child, right_child = bipartition(wiki_data, maxiter=100, num_runs=8, seed=1)"
   ]
  },
  {
   "cell_type": "markdown",
   "metadata": {},
   "source": [
    "Let's examine the contents of one of the two clusters, which we call the left_child, referring to the tree visualization above."
   ]
  },
  {
   "cell_type": "code",
   "execution_count": 7,
   "metadata": {
    "collapsed": false
   },
   "outputs": [
    {
     "name": "stdout",
     "output_type": "stream",
     "text": [
      "{'centroid': array([ 0.00022199,  0.00022199,  0.00022199, ...,  0.01077195,\n",
      "        0.00801833,  0.00199557]), 'matrix': <49491x547979 sparse matrix of type '<type 'numpy.float64'>'\n",
      "\twith 8658969 stored elements in Compressed Sparse Row format>, 'dataframe': Columns:\n",
      "\tURI\tstr\n",
      "\tname\tstr\n",
      "\ttext\tstr\n",
      "\n",
      "Rows: Unknown\n",
      "\n",
      "Data:\n",
      "+-------------------------------+---------------------+\n",
      "|              URI              |         name        |\n",
      "+-------------------------------+---------------------+\n",
      "| <http://dbpedia.org/resour... |    Digby Morrell    |\n",
      "| <http://dbpedia.org/resour... |    Alfred J. Lewy   |\n",
      "| <http://dbpedia.org/resour... |    Harpdog Brown    |\n",
      "| <http://dbpedia.org/resour... | Franz Rottensteiner |\n",
      "| <http://dbpedia.org/resour... |        G-Enka       |\n",
      "| <http://dbpedia.org/resour... |    Sam Henderson    |\n",
      "| <http://dbpedia.org/resour... |    Aaron LaCrate    |\n",
      "| <http://dbpedia.org/resour... |   Trevor Ferguson   |\n",
      "| <http://dbpedia.org/resour... |     Grant Nelson    |\n",
      "| <http://dbpedia.org/resour... |     Cathy Caruth    |\n",
      "+-------------------------------+---------------------+\n",
      "+-------------------------------+\n",
      "|              text             |\n",
      "+-------------------------------+\n",
      "| digby morrell born 10 octo... |\n",
      "| alfred j lewy aka sandy le... |\n",
      "| harpdog brown is a singer ... |\n",
      "| franz rottensteiner born i... |\n",
      "| henry krvits born 30 decem... |\n",
      "| sam henderson born october... |\n",
      "| aaron lacrate is an americ... |\n",
      "| trevor ferguson aka john f... |\n",
      "| grant nelson born 27 april... |\n",
      "| cathy caruth born 1955 is ... |\n",
      "+-------------------------------+\n",
      "[? rows x 3 columns]\n",
      "Note: Only the head of the SFrame is printed. This SFrame is lazily evaluated.\n",
      "You can use sf.materialize() to force materialization.}\n",
      "{'centroid': array([ 0.        ,  0.        ,  0.        , ...,  0.01170046,\n",
      "        0.0084801 ,  0.00195324]), 'matrix': <9580x547979 sparse matrix of type '<type 'numpy.float64'>'\n",
      "\twith 1720314 stored elements in Compressed Sparse Row format>, 'dataframe': Columns:\n",
      "\tURI\tstr\n",
      "\tname\tstr\n",
      "\ttext\tstr\n",
      "\n",
      "Rows: Unknown\n",
      "\n",
      "Data:\n",
      "+-------------------------------+-------------------------+\n",
      "|              URI              |           name          |\n",
      "+-------------------------------+-------------------------+\n",
      "| <http://dbpedia.org/resour... |       Sophie Crumb      |\n",
      "| <http://dbpedia.org/resour... |      Jenn Ashworth      |\n",
      "| <http://dbpedia.org/resour... |      Faith Soloway      |\n",
      "| <http://dbpedia.org/resour... |       Emily Osment      |\n",
      "| <http://dbpedia.org/resour... |      Vanessa Ament      |\n",
      "| <http://dbpedia.org/resour... |       Michelle Ye       |\n",
      "| <http://dbpedia.org/resour... |      Mary Goldring      |\n",
      "| <http://dbpedia.org/resour... | Susan Westerberg Prager |\n",
      "| <http://dbpedia.org/resour... | Elizabeth Gunn (author) |\n",
      "| <http://dbpedia.org/resour... |          Milva          |\n",
      "+-------------------------------+-------------------------+\n",
      "+-------------------------------+\n",
      "|              text             |\n",
      "+-------------------------------+\n",
      "| sophia violet sophie crumb... |\n",
      "| jenn ashworth is an englis... |\n",
      "| faith soloway born march 2... |\n",
      "| emily jordan osment born m... |\n",
      "| dr vanessa theme ament bor... |\n",
      "| michelle ye or ye xuan bor... |\n",
      "| mary goldring obe is a bri... |\n",
      "| susan westerberg prager 19... |\n",
      "| elizabeth gunn is an ameri... |\n",
      "| maria ilva biolcati comman... |\n",
      "+-------------------------------+\n",
      "[? rows x 3 columns]\n",
      "Note: Only the head of the SFrame is printed. This SFrame is lazily evaluated.\n",
      "You can use sf.materialize() to force materialization.}\n"
     ]
    }
   ],
   "source": [
    "print left_child\n",
    "print right_child"
   ]
  },
  {
   "cell_type": "markdown",
   "metadata": {},
   "source": [
    "### Visualize the bipartition\n",
    "\n",
    "We provide you with a modified version of the visualization function from the k-means assignment. For each cluster, we print the top 5 words with highest TF-IDF weights in the centroid and display excerpts for the 8 nearest neighbors of the centroid."
   ]
  },
  {
   "cell_type": "code",
   "execution_count": 8,
   "metadata": {
    "collapsed": true
   },
   "outputs": [],
   "source": [
    "def display_single_tf_idf_cluster(cluster, map_index_to_word):\n",
    "    '''map_index_to_word: SFrame specifying the mapping betweeen words and column indices'''\n",
    "    \n",
    "    wiki_subset   = cluster['dataframe']\n",
    "    tf_idf_subset = cluster['matrix']\n",
    "    centroid      = cluster['centroid']\n",
    "    \n",
    "    # Print top 5 words with largest TF-IDF weights in the cluster\n",
    "    idx = centroid.argsort()[::-1]\n",
    "    for i in xrange(5):\n",
    "        print('{0:s}:{1:.3f}'.format(map_index_to_word['category'][idx[i]], centroid[idx[i]])),\n",
    "    print('')\n",
    "    \n",
    "    # Compute distances from the centroid to all data points in the cluster.\n",
    "    distances = pairwise_distances(tf_idf_subset, [centroid], metric='euclidean').flatten()\n",
    "    # compute nearest neighbors of the centroid within the cluster.\n",
    "    nearest_neighbors = distances.argsort()\n",
    "    # For 8 nearest neighbors, print the title as well as first 180 characters of text.\n",
    "    # Wrap the text at 80-character mark.\n",
    "    for i in xrange(8):\n",
    "        text = ' '.join(wiki_subset[nearest_neighbors[i]]['text'].split(None, 25)[0:25])\n",
    "        print('* {0:50s} {1:.5f}\\n  {2:s}\\n  {3:s}'.format(wiki_subset[nearest_neighbors[i]]['name'],\n",
    "              distances[nearest_neighbors[i]], text[:90], text[90:180] if len(text) > 90 else ''))\n",
    "    print('')"
   ]
  },
  {
   "cell_type": "code",
   "execution_count": 9,
   "metadata": {
    "collapsed": false
   },
   "outputs": [
    {
     "name": "stdout",
     "output_type": "stream",
     "text": [
      "he:1.332 his:0.926 music:0.876 university:0.868 league:0.837 \n",
      "* Rodney Marsh (footballer)                          43.22699\n",
      "  rodney william marsh born 11 october 1944 is an english former footballer and football coa\n",
      "  ch he later worked as a broadcaster he won nine caps\n",
      "* Adam Haslett                                       43.68907\n",
      "  adam haslett born december 24 1970 is an american fiction writer he was born in port chest\n",
      "  er new york and grew up in oxfordshire england\n",
      "* Tommy Haas                                         43.94744\n",
      "  thomas mario tommy haas born 3 april 1978 is a german professional tennis player he has co\n",
      "  mpeted on the atp tour since 1996 after breaking\n",
      "* Michael Munger                                     44.32072\n",
      "  michael curtis mike munger born september 23 1958 is an economist and a former chair of th\n",
      "  e political science department at duke university where he\n",
      "* Billy Wright (footballer, born 1958)               46.03777\n",
      "  william billy wright born 28 april 1958 is an english former professional footballer who p\n",
      "  layed as a centre half he played 370 games in the\n",
      "* Howard Alper                                       46.12803\n",
      "  howard alper oc frsc born october 17 1941 is a canadian chemist he is a professor of chemi\n",
      "  stry at the university of ottawa he is\n",
      "* Patrick Joyce                                      46.14388\n",
      "  patrick joyce is a british social historian who has also worked on political history he is\n",
      "   also known for his theoretical work on the nature\n",
      "* Adrian Burrows                                     46.51772\n",
      "  adrian mark burrows born 16 january 1959 is a retired english footballer who played as a c\n",
      "  entre backhe began his career as an apprentice with\n",
      "\n",
      "she:11.506 her:7.628 film:1.086 music:1.066 women:0.997 \n",
      "* Euny Hong                                          46.84680\n",
      "  euny hong is a koreanamerican and jewish journalist and author ms hong was born in new jer\n",
      "  sey the united states at age 12 she moved\n",
      "* Ann Lauterbach                                     48.12825\n",
      "  ann lauterbach born 1942 is an american poet essayist and professor her most recent poetry\n",
      "   collection is under the sign penguin books 2013 her honors\n",
      "* Glenda Jackson                                     48.55189\n",
      "  glenda may jackson cbe born 9 may 1936 is a british labour party politician and former act\n",
      "  ress she first became a member of parliament mp\n",
      "* Katherine Langrish                                 48.77644\n",
      "  katherine langrish is a british author of fantasy for children and young adults she was br\n",
      "  ought up in yorkshire and herefordshire and wanted to be\n",
      "* Geneva Overholser                                  49.63386\n",
      "  geneva overholser is an independent journalist in new york city she was professor and dire\n",
      "  ctor of the usc annenberg school of journalism until july 2013\n",
      "* Tessa Ross                                         50.05502\n",
      "  tessa sarah ross cbe born 1961 is a bafta award winning uk film executive who is the contr\n",
      "  oller of film and drama at channel 4\n",
      "* Patty Chang                                        50.14849\n",
      "  patty chang born february 3 1972 in san francisco california is an american film director \n",
      "  she was described as one of our most consistently exciting\n",
      "* Jodie Cooper                                       50.37522\n",
      "  jodie cooper born 4 may 1964 in albany western australia is a former champion surfer she w\n",
      "  on 13 international surfing events including titles in australia\n",
      "\n"
     ]
    }
   ],
   "source": [
    "display_single_tf_idf_cluster(left_child, map_index_to_word)\n",
    "display_single_tf_idf_cluster(right_child, map_index_to_word)"
   ]
  },
  {
   "cell_type": "markdown",
   "metadata": {},
   "source": [
    "Is this hierarchy good enough? When building a hierarchy of clusters, we must keep our particular application in mind. For instance, we might want to build a directory for Wikipedia articles. A good directory would let you quickly narrow down your search to a small set of related articles. The categories of athletes and non-athletes are too general to facilitate efficient search. For this reason, we decide to build another level into our hierarchy of clusters with the goal of getting more specific cluster structure at the lower level. To that end, we subdivide both the athletes and non-athletes clusters.\n",
    "\n"
   ]
  },
  {
   "cell_type": "markdown",
   "metadata": {},
   "source": [
    "### Perform recursive bipartitioning\n",
    "\n",
    "Cluster of athletes. To help identify the clusters we've built so far, let's give them easy-to-read aliases:"
   ]
  },
  {
   "cell_type": "code",
   "execution_count": 10,
   "metadata": {
    "collapsed": true
   },
   "outputs": [],
   "source": [
    "athletes = left_child\n",
    "non_athletes = right_child"
   ]
  },
  {
   "cell_type": "code",
   "execution_count": 11,
   "metadata": {
    "collapsed": true
   },
   "outputs": [],
   "source": [
    "# Bipartition the cluster of athletes\n",
    "left_child_athletes, right_child_athletes = bipartition(athletes, maxiter=100, num_runs=8, seed=1)"
   ]
  },
  {
   "cell_type": "markdown",
   "metadata": {},
   "source": [
    "The left child cluster mainly consists of baseball players. On the other hand, the right child cluster is a mix of football players and ice hockey players."
   ]
  },
  {
   "cell_type": "code",
   "execution_count": 12,
   "metadata": {
    "collapsed": false
   },
   "outputs": [
    {
     "name": "stdout",
     "output_type": "stream",
     "text": [
      "league:1.700 music:1.659 season:1.652 played:1.487 he:1.373 \n",
      "* Rodney Marsh (footballer)                          42.86629\n",
      "  rodney william marsh born 11 october 1944 is an english former footballer and football coa\n",
      "  ch he later worked as a broadcaster he won nine caps\n",
      "* Tommy Haas                                         43.76640\n",
      "  thomas mario tommy haas born 3 april 1978 is a german professional tennis player he has co\n",
      "  mpeted on the atp tour since 1996 after breaking\n",
      "* Billy Wright (footballer, born 1958)               45.71184\n",
      "  william billy wright born 28 april 1958 is an english former professional footballer who p\n",
      "  layed as a centre half he played 370 games in the\n",
      "* Adrian Burrows                                     46.19068\n",
      "  adrian mark burrows born 16 january 1959 is a retired english footballer who played as a c\n",
      "  entre backhe began his career as an apprentice with\n",
      "* Dan Siegel (musician)                              46.76403\n",
      "  dan siegel born in seattle washington is a pianist composer and record producer his earlie\n",
      "  r music has been described as new age while his more\n",
      "* Wes Brown                                          46.90134\n",
      "  wesley michael wes brown born 13 october 1979 is an english footballer who plays as a defe\n",
      "  nder for sunderland before joining sunderland brown had spent\n",
      "* Dennis Leonard                                     47.58338\n",
      "  dennis patrick leonard born may 8 1951 was one of the kansas city royals most dominating p\n",
      "  itchers of the late 70s and early 80s but\n",
      "* Aaron Hughes                                       47.58460\n",
      "  aaron william hughes born 8 november 1979 is a northern irish professional footballer who \n",
      "  plays for english club brighton hove albion and the northern ireland\n",
      "\n",
      "university:1.324 he:1.295 research:0.988 served:0.975 law:0.971 \n",
      "* Adam Haslett                                       43.68929\n",
      "  adam haslett born december 24 1970 is an american fiction writer he was born in port chest\n",
      "  er new york and grew up in oxfordshire england\n",
      "* Michael Munger                                     43.77609\n",
      "  michael curtis mike munger born september 23 1958 is an economist and a former chair of th\n",
      "  e political science department at duke university where he\n",
      "* Howard Alper                                       45.83221\n",
      "  howard alper oc frsc born october 17 1941 is a canadian chemist he is a professor of chemi\n",
      "  stry at the university of ottawa he is\n",
      "* Patrick Joyce                                      45.93889\n",
      "  patrick joyce is a british social historian who has also worked on political history he is\n",
      "   also known for his theoretical work on the nature\n",
      "* Jon Butler                                         46.95914\n",
      "  jon butler born 4 june 1940 is a historian and howard r lamar professor emeritus of americ\n",
      "  an studies history and religious studies at yale university\n",
      "* Roland Grossenbacher                               47.11818\n",
      "  dr roland edouard grossenbacher is a swiss attorney at law who served as chairman of the a\n",
      "  dministrative council of the european patent organisation from march\n",
      "* Ronald James Baker                                 47.20836\n",
      "  ronald ron james baker oc born august 24 1924 is a canadian academic administrator he was \n",
      "  the first president of the university of prince edward\n",
      "* Howard Dawson                                      47.23401\n",
      "  howard a dawson jr born october 23 1922 in okolona arkansas is a senior judge of the unite\n",
      "  d states tax court he graduated from woodrow\n",
      "\n"
     ]
    }
   ],
   "source": [
    "display_single_tf_idf_cluster(left_child_athletes, map_index_to_word)\n",
    "display_single_tf_idf_cluster(right_child_athletes, map_index_to_word)"
   ]
  },
  {
   "cell_type": "markdown",
   "metadata": {},
   "source": [
    "Note. Concerning use of \"football\"\n",
    "\n",
    "The occurrences of the word \"football\" above refer to association football. This sports is also known as \"soccer\" in United States (to avoid confusion with American football). We will use \"football\" throughout when discussing topic representation."
   ]
  },
  {
   "cell_type": "markdown",
   "metadata": {},
   "source": [
    "Should we keep subdividing the clusters? If so, which cluster should we subdivide? To answer this question, we again think about our application. Since we organize our directory by topics, it would be nice to have topics that are about as coarse as each other. For instance, if one cluster is about baseball, we expect some other clusters about football, basketball, volleyball, and so forth. That is, we would like to achieve similar level of granularity for all clusters.\n",
    "\n",
    "Notice that the right child cluster is more coarse than the left child cluster. The right cluster possesses a greater variety of topics than the left (ice hockey/football vs. baseball). So the right child cluster should be subdivided further to produce finer child clusters.\n",
    "\n",
    "Let's give the clusters aliases as well:"
   ]
  },
  {
   "cell_type": "code",
   "execution_count": 40,
   "metadata": {
    "collapsed": true
   },
   "outputs": [],
   "source": [
    "baseball            = left_child_athletes\n",
    "ice_hockey_football = right_child_athletes"
   ]
  },
  {
   "cell_type": "markdown",
   "metadata": {},
   "source": [
    "Cluster of ice hockey players and football players. In answering the following quiz question, take a look at the topics represented in the top documents (those closest to the centroid), as well as the list of words with highest TF-IDF weights."
   ]
  },
  {
   "cell_type": "code",
   "execution_count": 41,
   "metadata": {
    "collapsed": true
   },
   "outputs": [],
   "source": [
    "# Bipartition the cluster of ice_hockey_football\n",
    "left_child_athletes, right_child_athletes = bipartition(ice_hockey_football, maxiter=100, num_runs=8, seed=1)"
   ]
  },
  {
   "cell_type": "code",
   "execution_count": 42,
   "metadata": {
    "collapsed": false
   },
   "outputs": [
    {
     "name": "stdout",
     "output_type": "stream",
     "text": [
      "university:1.489 research:1.307 he:1.189 art:1.188 professor:1.079 \n",
      "* Adam Haslett                                       43.47247\n",
      "  adam haslett born december 24 1970 is an american fiction writer he was born in port chest\n",
      "  er new york and grew up in oxfordshire england\n",
      "* Michael Munger                                     43.70049\n",
      "  michael curtis mike munger born september 23 1958 is an economist and a former chair of th\n",
      "  e political science department at duke university where he\n",
      "* Patrick Joyce                                      45.69481\n",
      "  patrick joyce is a british social historian who has also worked on political history he is\n",
      "   also known for his theoretical work on the nature\n",
      "* Howard Alper                                       45.70048\n",
      "  howard alper oc frsc born october 17 1941 is a canadian chemist he is a professor of chemi\n",
      "  stry at the university of ottawa he is\n",
      "* Jon Butler                                         46.74892\n",
      "  jon butler born 4 june 1940 is a historian and howard r lamar professor emeritus of americ\n",
      "  an studies history and religious studies at yale university\n",
      "* Ronald James Baker                                 47.25480\n",
      "  ronald ron james baker oc born august 24 1924 is a canadian academic administrator he was \n",
      "  the first president of the university of prince edward\n",
      "* Ken Ritchie                                        47.40025\n",
      "  ken ritchie born 1946 is a british psephologistborn in glasgow scotland he graduated from \n",
      "  the university of edinburgh with a degree in mathematics before spending\n",
      "* Geoff Ward (academic)                              47.77886\n",
      "  geoffrey geoff ward frsa is a british academic specialising in american literature he is t\n",
      "  he current principal of homerton college university of cambridge he formerly\n",
      "\n",
      "party:2.937 minister:2.626 election:2.591 law:2.227 served:1.935 \n",
      "* Howard Dawson                                      47.09929\n",
      "  howard a dawson jr born october 23 1922 in okolona arkansas is a senior judge of the unite\n",
      "  d states tax court he graduated from woodrow\n",
      "* Roland Grossenbacher                               47.10859\n",
      "  dr roland edouard grossenbacher is a swiss attorney at law who served as chairman of the a\n",
      "  dministrative council of the european patent organisation from march\n",
      "* Mark Waller (judge)                                47.29473\n",
      "  sir george mark waller born 13 october 1940 is a former lord justice of appeal who served \n",
      "  as the vicepresident of the civil division of\n",
      "* James A. Guest                                     47.56282\n",
      "  james alfred guest is an american lawyer and consumer advocate from 2001 to 2014 he was pr\n",
      "  esident and ceo of consumer reports a position he\n",
      "* David Berger (Canadian politician)                 47.73602\n",
      "  david berger born march 30 1950 is a canadian lawyer politician diplomat and sports execut\n",
      "  ivehe was born in ottawa ontario the eldest son of sam\n",
      "* Alan Duncan                                        47.75554\n",
      "  sir alan james carter duncan kcmg born 31 march 1957 is a british conservative party polit\n",
      "  ician he is the member of parliament mp for rutland\n",
      "* Stanley S. Harris                                  48.00861\n",
      "  stanley s harris born 1927 is a former united states federal judgeborn in washington dc ha\n",
      "  rris was the son of hall of fame manager bucky\n",
      "* Joseph Charles                                     48.36605\n",
      "  joseph charles jr born january 6 1944 is an american democratic party politician who serve\n",
      "  d in the new jersey senate from 2002 to 2003 where\n",
      "\n"
     ]
    }
   ],
   "source": [
    "display_single_tf_idf_cluster(left_child_athletes, map_index_to_word)\n",
    "display_single_tf_idf_cluster(right_child_athletes, map_index_to_word)"
   ]
  },
  {
   "cell_type": "markdown",
   "metadata": {},
   "source": [
    "### Quiz Question. Bipartition the cluster of ice hockey and football players. Which of the two child clusters should be futher subdivided?\n",
    "\n",
    "Note. To achieve consistent results, use the arguments maxiter=100, num_runs=8, seed=1 when calling the bipartition function.\n",
    "\n",
    "- The left child cluster\n",
    "- The right child cluster\n",
    "\n",
    "Caution. The granularity criteria is an imperfect heuristic and must be taken with a grain of salt. It takes a lot of manual intervention to obtain a good hierarchy of clusters.\n",
    "\n",
    "If a cluster is highly mixed, the top articles and words may not convey the full picture of the cluster. Thus, we may be misled if we judge the purity of clusters solely by their top documents and words.\n",
    "Many interesting topics are hidden somewhere inside the clusters but do not appear in the visualization. We may need to subdivide further to discover new topics. For instance, subdividing the ice_hockey_football cluster led to the appearance of golf.\n",
    "\n",
    "### Quiz Question. Which diagram best describes the hierarchy right after splitting the ice_hockey_football cluster? Refer to the quiz form for the diagrams.\n",
    "\n",
    "Cluster of non-athletes. Now let us subdivide the cluster of non-athletes."
   ]
  },
  {
   "cell_type": "code",
   "execution_count": null,
   "metadata": {
    "collapsed": true
   },
   "outputs": [],
   "source": [
    "# Bipartition the cluster of non-athletes\n",
    "left_child_non_athletes, right_child_non_athletes = bipartition(non_athletes, maxiter=100, num_runs=8, seed=1)\n",
    "\n",
    "display_single_tf_idf_cluster(left_child_non_athletes, map_index_to_word)\n",
    "display_single_tf_idf_cluster(right_child_non_athletes, map_index_to_word)"
   ]
  },
  {
   "cell_type": "markdown",
   "metadata": {},
   "source": [
    "The first cluster consists of scholars, politicians, and government officials whereas the second consists of musicians, artists, and actors. Run the following code cell to make convenient aliases for the clusters."
   ]
  },
  {
   "cell_type": "code",
   "execution_count": null,
   "metadata": {
    "collapsed": true
   },
   "outputs": [],
   "source": [
    "scholars_politicians_etc = left_child_non_athletes\n",
    "musicians_artists_etc = right_child_non_athletes"
   ]
  },
  {
   "cell_type": "markdown",
   "metadata": {},
   "source": [
    "Quiz Question. Let us bipartition the clusters scholars_politicians_etc and musicians_artists_etc. Which diagram best describes the resulting hierarchy of clusters for the non-athletes? Refer to the quiz for the diagrams.\n",
    "\n",
    "Note. Use maxiter=100, num_runs=8, seed=1 for consistency of output."
   ]
  }
 ],
 "metadata": {
  "kernelspec": {
   "display_name": "Python 2",
   "language": "python",
   "name": "python2"
  },
  "language_info": {
   "codemirror_mode": {
    "name": "ipython",
    "version": 2
   },
   "file_extension": ".py",
   "mimetype": "text/x-python",
   "name": "python",
   "nbconvert_exporter": "python",
   "pygments_lexer": "ipython2",
   "version": "2.7.10"
  },
  "widgets": {
   "state": {},
   "version": "1.1.2"
  }
 },
 "nbformat": 4,
 "nbformat_minor": 0
}
