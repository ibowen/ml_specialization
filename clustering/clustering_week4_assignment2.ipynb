{
 "cells": [
  {
   "cell_type": "code",
   "execution_count": 1,
   "metadata": {
    "collapsed": true
   },
   "outputs": [],
   "source": [
    "import numpy as np\n",
    "from scipy.sparse import csr_matrix\n",
    "from scipy.sparse import spdiags\n",
    "from scipy.stats import multivariate_normal\n",
    "from copy import deepcopy\n",
    "from sklearn.metrics import pairwise_distances\n",
    "from sklearn.preprocessing import normalize"
   ]
  },
  {
   "cell_type": "code",
   "execution_count": 2,
   "metadata": {
    "collapsed": true
   },
   "outputs": [],
   "source": [
    "import sframe                                            # see below for install instruction"
   ]
  },
  {
   "cell_type": "markdown",
   "metadata": {},
   "source": [
    "### Load Wikipedia data and extract TF-IDF features\n",
    "\n",
    "Load Wikipedia data and transform each of the first 5000 document into a TF-IDF representation."
   ]
  },
  {
   "cell_type": "code",
   "execution_count": 3,
   "metadata": {
    "collapsed": false
   },
   "outputs": [
    {
     "name": "stderr",
     "output_type": "stream",
     "text": [
      "[INFO] sframe.cython.cy_server: SFrame v1.10 started. Logging /tmp/sframe_server_1468518421.log\n"
     ]
    }
   ],
   "source": [
    "wiki = sframe.SFrame('./data/people_wiki.gl/').head(5000)"
   ]
  },
  {
   "cell_type": "markdown",
   "metadata": {},
   "source": [
    "As in the previous assignment, we extract the TF-IDF vector of each document.\n",
    "\n",
    "For your convenience, we extracted the TF-IDF vectors from the dataset. The vectors are packaged in a sparse matrix, where the i-th row gives the TF-IDF vectors for the i-th document. Each column corresponds to a unique word appearing in the dataset.\n",
    "\n",
    "To load in the TF-IDF vectors, run"
   ]
  },
  {
   "cell_type": "code",
   "execution_count": 5,
   "metadata": {
    "collapsed": true
   },
   "outputs": [],
   "source": [
    "def load_sparse_csr(filename):\n",
    "    loader = np.load(filename)\n",
    "    data = loader['data']\n",
    "    indices = loader['indices']\n",
    "    indptr = loader['indptr']\n",
    "    shape = loader['shape']\n",
    "    \n",
    "    return csr_matrix( (data, indices, indptr), shape)\n",
    "\n",
    "tf_idf = load_sparse_csr('./data/4_tf_idf.npz')  # NOT people_wiki_tf_idf.npz\n",
    "map_index_to_word = sframe.SFrame('./data/4_map_index_to_word.gl/')  # NOT people_wiki_map_index_to_word.gl"
   ]
  },
  {
   "cell_type": "markdown",
   "metadata": {},
   "source": [
    "As in the previous assignment, we will normalize each document's TF-IDF vector to be a unit vector."
   ]
  },
  {
   "cell_type": "code",
   "execution_count": 6,
   "metadata": {
    "collapsed": true
   },
   "outputs": [],
   "source": [
    "tf_idf = normalize(tf_idf)"
   ]
  },
  {
   "cell_type": "markdown",
   "metadata": {},
   "source": [
    "### EM in high dimensions\n",
    "\n",
    "EM for high-dimensional data requires some special treatment:\n",
    "\n",
    "E step and M step must be vectorized as much as possible, as explicit loops are dreadfully slow in Python.\n",
    "All operations must be cast in terms of sparse matrix operations, to take advantage of computational savings enabled by sparsity of data.\n",
    "Initially, some words may be entirely absent from a cluster, causing the M step to produce zero mean and variance for those words. This means any data point with one of those words will have 0 probability of being assigned to that cluster since the cluster allows for no variability (0 variance) around that count being 0 (0 mean). Since there is a small chance for those words to later appear in the cluster, we instead assign a small positive variance (~1e-10). Doing so also prevents numerical overflow.\n",
    "Due to complexity in implementation, we provide the complete implementation here. You are expected to answer some quiz questions using the results of clustering.\n",
    "\n",
    "### Log probability function for diagonal covariance Gaussian."
   ]
  },
  {
   "cell_type": "code",
   "execution_count": 21,
   "metadata": {
    "collapsed": true
   },
   "outputs": [],
   "source": [
    "def diag(array):\n",
    "    n = len(array)\n",
    "    return spdiags(array, 0, n, n)\n",
    "\n",
    "def logpdf_diagonal_gaussian(x, mean, cov):\n",
    "    '''\n",
    "    Compute logpdf of a multivariate Gaussian distribution with diagonal covariance at a given point x.\n",
    "    A multivariate Gaussian distribution with a diagonal covariance is equivalent\n",
    "    to a collection of independent Gaussian random variables.\n",
    "\n",
    "    x should be a sparse matrix. The logpdf will be computed for each row of x.\n",
    "    mean and cov should be given as 1D numpy arrays\n",
    "    mean[i] : mean of i-th variable\n",
    "    cov[i] : variance of i-th variable'''\n",
    "\n",
    "    n = x.shape[0]\n",
    "    dim = x.shape[1]\n",
    "    assert(dim == len(mean) and dim == len(cov))\n",
    "\n",
    "    # multiply each i-th column of x by (1/(2*sigma_i)), where sigma_i is sqrt of variance of i-th variable.\n",
    "    scaled_x = x.dot( diag(1./(2*np.sqrt(cov))) )\n",
    "    # multiply each i-th entry of mean by (1/(2*sigma_i))\n",
    "    scaled_mean = mean/(2*np.sqrt(cov))\n",
    "\n",
    "    # sum of pairwise squared Eulidean distances gives SUM[(x_i - mean_i)^2/(2*sigma_i^2)]\n",
    "    return -np.sum(np.log(np.sqrt(2*np.pi*cov))) - pairwise_distances(scaled_x, [scaled_mean], 'euclidean').flatten()**2"
   ]
  },
  {
   "cell_type": "markdown",
   "metadata": {},
   "source": [
    "EM algorithm for sparse data."
   ]
  },
  {
   "cell_type": "code",
   "execution_count": 22,
   "metadata": {
    "collapsed": true
   },
   "outputs": [],
   "source": [
    "def log_sum_exp(x, axis):\n",
    "    '''Compute the log of a sum of exponentials'''\n",
    "    x_max = np.max(x, axis=axis)\n",
    "    if axis == 1:\n",
    "        return x_max + np.log( np.sum(np.exp(x-x_max[:,np.newaxis]), axis=1) )\n",
    "    else:\n",
    "        return x_max + np.log( np.sum(np.exp(x-x_max), axis=0) )\n",
    "\n",
    "def EM_for_high_dimension(data, means, covs, weights, cov_smoothing=1e-5, maxiter=int(1e3), thresh=1e-4, verbose=False):\n",
    "    # cov_smoothing: specifies the default variance assigned to absent features in a cluster.\n",
    "    #                If we were to assign zero variances to absent features, we would be overconfient,\n",
    "    #                as we hastily conclude that those featurese would NEVER appear in the cluster.\n",
    "    #                We'd like to leave a little bit of possibility for absent features to show up later.\n",
    "    n = data.shape[0]\n",
    "    dim = data.shape[1]\n",
    "    mu = deepcopy(means)\n",
    "    Sigma = deepcopy(covs)\n",
    "    K = len(mu)\n",
    "    weights = np.array(weights)\n",
    "\n",
    "    ll = None\n",
    "    ll_trace = []\n",
    "\n",
    "    for i in range(maxiter):\n",
    "        # E-step: compute responsibilities\n",
    "        logresp = np.zeros((n,K))\n",
    "        for k in xrange(K):\n",
    "            logresp[:,k] = np.log(weights[k]) + logpdf_diagonal_gaussian(data, mu[k], Sigma[k])\n",
    "        ll_new = np.sum(log_sum_exp(logresp, axis=1))\n",
    "        if verbose:\n",
    "            print(ll_new)\n",
    "        logresp -= np.vstack(log_sum_exp(logresp, axis=1))\n",
    "        resp = np.exp(logresp)\n",
    "        counts = np.sum(resp, axis=0)\n",
    "\n",
    "        # M-step: update weights, means, covariances\n",
    "        weights = counts / np.sum(counts)\n",
    "        for k in range(K):\n",
    "            mu[k] = (diag(resp[:,k]).dot(data)).sum(axis=0)/counts[k]\n",
    "            mu[k] = mu[k].A1\n",
    "\n",
    "            Sigma[k] = diag(resp[:,k]).dot( data.power(2)-2*data.dot(diag(mu[k])) ).sum(axis=0) \\\n",
    "                       + (mu[k]**2)*counts[k]\n",
    "            Sigma[k] = Sigma[k].A1 / counts[k] + cov_smoothing*np.ones(dim)\n",
    "\n",
    "        # check for convergence in log-likelihood\n",
    "        ll_trace.append(ll_new)\n",
    "        if ll is not None and (ll_new-ll) < thresh and ll_new > -np.inf:\n",
    "            ll = ll_new\n",
    "            break\n",
    "        else:\n",
    "            ll = ll_new\n",
    "\n",
    "    out = {'weights':weights,'means':mu,'covs':Sigma,'loglik':ll_trace,'resp':resp}\n",
    "\n",
    "    return out"
   ]
  },
  {
   "cell_type": "markdown",
   "metadata": {},
   "source": [
    "### Initializing mean parameters using k-means. \n",
    "\n",
    "Recall from the lectures that EM for Gaussian mixtures is very sensitive to the choice of initial means. With a bad initial set of means, EM may produce clusters that span a large area and are mostly overlapping. To eliminate such bad outcomes, we first produce a suitable set of initial means by using the cluster centers from running k-means. That is, we first run k-means and then take the final set of means from the converged solution as the initial means in our EM algorithm."
   ]
  },
  {
   "cell_type": "code",
   "execution_count": 23,
   "metadata": {
    "collapsed": true
   },
   "outputs": [],
   "source": [
    "from sklearn.cluster import KMeans\n",
    "\n",
    "np.random.seed(5)\n",
    "num_clusters = 25\n",
    "\n",
    "# Use scikit-learn's k-means to simplify workflow\n",
    "kmeans_model = KMeans(n_clusters=num_clusters, n_init=5, max_iter=400, random_state=1, n_jobs=-1)\n",
    "kmeans_model.fit(tf_idf)\n",
    "centroids, cluster_assignment = kmeans_model.cluster_centers_, kmeans_model.labels_\n",
    "\n",
    "means = [centroid for centroid in centroids]"
   ]
  },
  {
   "cell_type": "markdown",
   "metadata": {},
   "source": [
    "### Initializing cluster weights. \n",
    "\n",
    "We will initialize each cluster weight to be the proportion of documents assigned to that cluster by k-means above.\n",
    "\n"
   ]
  },
  {
   "cell_type": "code",
   "execution_count": 25,
   "metadata": {
    "collapsed": false
   },
   "outputs": [],
   "source": [
    "num_docs = tf_idf.shape[0]\n",
    "weights = []\n",
    "for i in xrange(num_clusters):\n",
    "    # Compute the number of data points assigned to cluster i:\n",
    "    num_assigned = sum(cluster_assignment == i) # YOUR CODE HERE\n",
    "    w = float(num_assigned) / num_docs\n",
    "    weights.append(w)"
   ]
  },
  {
   "cell_type": "markdown",
   "metadata": {},
   "source": [
    "### Initializing covariances. \n",
    "\n",
    "To initialize our covariance parameters, we compute σ^2k,j=∑Ni=1(xi,j−μ^k,j)2 for each feature j. For features with really tiny variances, we assign 1e-8 instead to prevent numerical instability. We do this computation in a vectorized fashion in the following code block."
   ]
  },
  {
   "cell_type": "code",
   "execution_count": 26,
   "metadata": {
    "collapsed": true
   },
   "outputs": [],
   "source": [
    "covs = []\n",
    "for i in xrange(num_clusters):\n",
    "    member_rows = tf_idf[cluster_assignment==i]\n",
    "    cov = (member_rows.power(2) - 2*member_rows.dot(diag(means[i]))).sum(axis=0).A1 / member_rows.shape[0] \\\n",
    "          + means[i]**2\n",
    "    cov[cov < 1e-8] = 1e-8\n",
    "    covs.append(cov)"
   ]
  },
  {
   "cell_type": "markdown",
   "metadata": {},
   "source": [
    "### Running EM. \n",
    "Now that we have initialized all of our parameters, run EM."
   ]
  },
  {
   "cell_type": "code",
   "execution_count": 27,
   "metadata": {
    "collapsed": false
   },
   "outputs": [
    {
     "name": "stdout",
     "output_type": "stream",
     "text": [
      "[3855847476.7012835, 4844053202.46348, 4844053202.46348]\n"
     ]
    }
   ],
   "source": [
    "out = EM_for_high_dimension(tf_idf, means, covs, weights, cov_smoothing=1e-10)\n",
    "print out['loglik'] # print history of log-likelihood over time"
   ]
  },
  {
   "cell_type": "markdown",
   "metadata": {},
   "source": [
    "Interpret clusters\n",
    "\n",
    "In contrast to k-means, EM is able to explicitly model clusters of varying sizes and proportions. The relative magnitude of variances in the word dimensions tell us much about the nature of the clusters.\n",
    "\n",
    "Write yourself a cluster visualizer as follows. Examining each cluster's mean vector, list the 5 words with the largest mean values (5 most common words in the cluster). For each word, also include the associated variance parameter (diagonal element of the covariance matrix)."
   ]
  },
  {
   "cell_type": "code",
   "execution_count": 45,
   "metadata": {
    "collapsed": true
   },
   "outputs": [],
   "source": [
    "# Fill in the blanks\n",
    "def visualize_EM_clusters(tf_idf, means, covs, map_index_to_word):\n",
    "    print('')\n",
    "    print('==========================================================')\n",
    "\n",
    "    num_clusters = len(means)\n",
    "    for c in xrange(num_clusters):\n",
    "        print('Cluster {0:d}: Largest mean parameters in cluster '.format(c))\n",
    "        print('\\n{0: <12}{1: <12}{2: <12}'.format('Word', 'Mean', 'Variance'))\n",
    "        \n",
    "        # The k'th element of sorted_word_ids should be the index of the word \n",
    "        # that has the k'th-largest value in the cluster mean. Hint: Use np.argsort().\n",
    "        sorted_word_ids = np.argsort(means[c])[::-1]  # YOUR CODE HERE\n",
    "\n",
    "        for i in sorted_word_ids[:5]:\n",
    "            print '{0: <12}{1:<10.2e}{2:10.2e}'.format(map_index_to_word['category'][i], \n",
    "                                                       means[c][i],\n",
    "                                                       covs[c][i])\n",
    "        print '\\n=====================================================Quiz Question. Select all the topics that have a cluster in the model created above. [multiple choice]===='\n"
   ]
  },
  {
   "cell_type": "markdown",
   "metadata": {},
   "source": [
    "### Quiz Question. Select all the topics that have a cluster in the model created above. [multiple choice]\n",
    "\n"
   ]
  },
  {
   "cell_type": "code",
   "execution_count": 46,
   "metadata": {
    "collapsed": false
   },
   "outputs": [
    {
     "name": "stdout",
     "output_type": "stream",
     "text": [
      "\n",
      "==========================================================\n",
      "Cluster 0: Largest mean parameters in cluster \n",
      "\n",
      "Word        Mean        Variance    \n",
      "minister    7.57e-02    7.42e-03\n",
      "election    5.89e-02    3.21e-03\n",
      "party       5.89e-02    2.61e-03\n",
      "liberal     2.93e-02    4.55e-03\n",
      "elected     2.91e-02    8.95e-04\n",
      "\n",
      "=====================================================Quiz Question. Select all the topics that have a cluster in the model created above. [multiple choice]====\n",
      "Cluster 1: Largest mean parameters in cluster \n",
      "\n",
      "Word        Mean        Variance    \n",
      "film        1.76e-01    6.07e-03\n",
      "films       5.50e-02    2.97e-03\n",
      "festival    4.66e-02    3.60e-03\n",
      "feature     3.69e-02    1.81e-03\n",
      "directed    3.39e-02    2.22e-03\n",
      "\n",
      "=====================================================Quiz Question. Select all the topics that have a cluster in the model created above. [multiple choice]====\n",
      "Cluster 2: Largest mean parameters in cluster \n",
      "\n",
      "Word        Mean        Variance    \n",
      "art         1.26e-01    6.83e-03\n",
      "museum      5.62e-02    7.27e-03\n",
      "gallery     3.65e-02    3.40e-03\n",
      "artist      3.61e-02    1.44e-03\n",
      "design      3.20e-02    4.59e-03\n",
      "\n",
      "=====================================================Quiz Question. Select all the topics that have a cluster in the model created above. [multiple choice]====\n",
      "Cluster 3: Largest mean parameters in cluster \n",
      "\n",
      "Word        Mean        Variance    \n",
      "basketball  1.86e-01    7.78e-03\n",
      "nba         1.01e-01    1.22e-02\n",
      "points      6.25e-02    5.92e-03\n",
      "coach       5.57e-02    5.91e-03\n",
      "team        4.68e-02    1.30e-03\n",
      "\n",
      "=====================================================Quiz Question. Select all the topics that have a cluster in the model created above. [multiple choice]====\n",
      "Cluster 4: Largest mean parameters in cluster \n",
      "\n",
      "Word        Mean        Variance    \n",
      "hockey      2.45e-01    1.64e-02\n",
      "nhl         1.56e-01    1.64e-02\n",
      "ice         6.40e-02    2.97e-03\n",
      "season      5.05e-02    2.52e-03\n",
      "league      4.31e-02    1.53e-03\n",
      "\n",
      "=====================================================Quiz Question. Select all the topics that have a cluster in the model created above. [multiple choice]====\n",
      "Cluster 5: Largest mean parameters in cluster \n",
      "\n",
      "Word        Mean        Variance    \n",
      "republican  7.93e-02    5.20e-03\n",
      "senate      5.41e-02    6.28e-03\n",
      "house       4.64e-02    2.41e-03\n",
      "district    4.60e-02    2.37e-03\n",
      "democratic  4.46e-02    3.02e-03\n",
      "\n",
      "=====================================================Quiz Question. Select all the topics that have a cluster in the model created above. [multiple choice]====\n",
      "Cluster 6: Largest mean parameters in cluster \n",
      "\n",
      "Word        Mean        Variance    \n",
      "she         1.60e-01    4.65e-03\n",
      "her         1.00e-01    3.14e-03\n",
      "miss        2.22e-02    7.76e-03\n",
      "women       1.43e-02    1.36e-03\n",
      "womens      1.21e-02    1.46e-03\n",
      "\n",
      "=====================================================Quiz Question. Select all the topics that have a cluster in the model created above. [multiple choice]====\n",
      "Cluster 7: Largest mean parameters in cluster \n",
      "\n",
      "Word        Mean        Variance    \n",
      "championships7.78e-02    5.17e-03\n",
      "m           4.70e-02    7.58e-03\n",
      "olympics    4.69e-02    2.59e-03\n",
      "medal       4.28e-02    2.44e-03\n",
      "she         4.18e-02    5.99e-03\n",
      "\n",
      "=====================================================Quiz Question. Select all the topics that have a cluster in the model created above. [multiple choice]====\n",
      "Cluster 8: Largest mean parameters in cluster \n",
      "\n",
      "Word        Mean        Variance    \n",
      "book        1.45e-02    9.38e-04\n",
      "published   1.23e-02    6.16e-04\n",
      "that        1.10e-02    1.73e-04\n",
      "novel       1.07e-02    1.43e-03\n",
      "he          1.04e-02    6.05e-05\n",
      "\n",
      "=====================================================Quiz Question. Select all the topics that have a cluster in the model created above. [multiple choice]====\n",
      "Cluster 9: Largest mean parameters in cluster \n",
      "\n",
      "Word        Mean        Variance    \n",
      "she         1.37e-01    4.25e-03\n",
      "her         8.99e-02    2.74e-03\n",
      "actress     7.65e-02    4.29e-03\n",
      "film        5.98e-02    3.44e-03\n",
      "drama       5.03e-02    6.40e-03\n",
      "\n",
      "=====================================================Quiz Question. Select all the topics that have a cluster in the model created above. [multiple choice]====\n",
      "Cluster 10: Largest mean parameters in cluster \n",
      "\n",
      "Word        Mean        Variance    \n",
      "soccer      1.15e-01    2.86e-02\n",
      "chess       4.52e-02    1.66e-02\n",
      "team        4.13e-02    2.15e-03\n",
      "coach       3.09e-02    4.45e-03\n",
      "league      3.07e-02    2.01e-03\n",
      "\n",
      "=====================================================Quiz Question. Select all the topics that have a cluster in the model created above. [multiple choice]====\n",
      "Cluster 11: Largest mean parameters in cluster \n",
      "\n",
      "Word        Mean        Variance    \n",
      "president   2.52e-02    1.29e-03\n",
      "chairman    2.44e-02    1.97e-03\n",
      "committee   2.34e-02    2.38e-03\n",
      "served      2.24e-02    6.99e-04\n",
      "executive   2.15e-02    1.23e-03\n",
      "\n",
      "=====================================================Quiz Question. Select all the topics that have a cluster in the model created above. [multiple choice]====\n",
      "Cluster 12: Largest mean parameters in cluster \n",
      "\n",
      "Word        Mean        Variance    \n",
      "music       7.26e-02    3.48e-03\n",
      "jazz        6.07e-02    1.14e-02\n",
      "hong        3.78e-02    9.92e-03\n",
      "kong        3.50e-02    8.64e-03\n",
      "chinese     3.12e-02    5.33e-03\n",
      "\n",
      "=====================================================Quiz Question. Select all the topics that have a cluster in the model created above. [multiple choice]====\n",
      "Cluster 13: Largest mean parameters in cluster \n",
      "\n",
      "Word        Mean        Variance    \n",
      "university  3.47e-02    8.89e-04\n",
      "history     3.38e-02    2.81e-03\n",
      "philosophy  2.86e-02    5.35e-03\n",
      "professor   2.74e-02    1.08e-03\n",
      "studies     2.41e-02    1.95e-03\n",
      "\n",
      "=====================================================Quiz Question. Select all the topics that have a cluster in the model created above. [multiple choice]====\n",
      "Cluster 14: Largest mean parameters in cluster \n",
      "\n",
      "Word        Mean        Variance    \n",
      "theatre     4.93e-02    6.17e-03\n",
      "actor       3.56e-02    2.91e-03\n",
      "television  3.21e-02    1.67e-03\n",
      "film        2.93e-02    1.16e-03\n",
      "comedy      2.86e-02    3.91e-03\n",
      "\n",
      "=====================================================Quiz Question. Select all the topics that have a cluster in the model created above. [multiple choice]====\n",
      "Cluster 15: Largest mean parameters in cluster \n",
      "\n",
      "Word        Mean        Variance    \n",
      "album       6.76e-02    4.78e-03\n",
      "band        5.35e-02    4.21e-03\n",
      "music       4.18e-02    1.96e-03\n",
      "released    3.13e-02    1.11e-03\n",
      "song        2.50e-02    1.81e-03\n",
      "\n",
      "=====================================================Quiz Question. Select all the topics that have a cluster in the model created above. [multiple choice]====\n",
      "Cluster 16: Largest mean parameters in cluster \n",
      "\n",
      "Word        Mean        Variance    \n",
      "tour        1.14e-01    1.92e-02\n",
      "pga         1.08e-01    2.65e-02\n",
      "racing      8.45e-02    8.26e-03\n",
      "championship6.27e-02    4.54e-03\n",
      "formula     6.06e-02    1.31e-02\n",
      "\n",
      "=====================================================Quiz Question. Select all the topics that have a cluster in the model created above. [multiple choice]====\n",
      "Cluster 17: Largest mean parameters in cluster \n",
      "\n",
      "Word        Mean        Variance    \n",
      "news        5.76e-02    8.06e-03\n",
      "radio       5.18e-02    4.62e-03\n",
      "show        3.75e-02    2.56e-03\n",
      "bbc         3.63e-02    7.41e-03\n",
      "chef        3.27e-02    1.18e-02\n",
      "\n",
      "=====================================================Quiz Question. Select all the topics that have a cluster in the model created above. [multiple choice]====\n",
      "Cluster 18: Largest mean parameters in cluster \n",
      "\n",
      "Word        Mean        Variance    \n",
      "football    1.11e-01    5.60e-03\n",
      "yards       7.37e-02    1.72e-02\n",
      "nfl         6.98e-02    9.15e-03\n",
      "coach       6.74e-02    7.85e-03\n",
      "quarterback 4.02e-02    7.16e-03\n",
      "\n",
      "=====================================================Quiz Question. Select all the topics that have a cluster in the model created above. [multiple choice]====\n",
      "Cluster 19: Largest mean parameters in cluster \n",
      "\n",
      "Word        Mean        Variance    \n",
      "league      5.21e-02    3.13e-03\n",
      "club        5.04e-02    2.64e-03\n",
      "season      4.77e-02    2.30e-03\n",
      "rugby       4.35e-02    8.18e-03\n",
      "cup         4.22e-02    2.46e-03\n",
      "\n",
      "=====================================================Quiz Question. Select all the topics that have a cluster in the model created above. [multiple choice]====\n",
      "Cluster 20: Largest mean parameters in cluster \n",
      "\n",
      "Word        Mean        Variance    \n",
      "orchestra   1.31e-01    1.06e-02\n",
      "music       1.23e-01    6.15e-03\n",
      "symphony    8.70e-02    1.08e-02\n",
      "conductor   8.16e-02    1.01e-02\n",
      "philharmonic4.96e-02    3.27e-03\n",
      "\n",
      "=====================================================Quiz Question. Select all the topics that have a cluster in the model created above. [multiple choice]====\n",
      "Cluster 21: Largest mean parameters in cluster \n",
      "\n",
      "Word        Mean        Variance    \n",
      "law         9.52e-02    8.35e-03\n",
      "court       6.84e-02    5.24e-03\n",
      "judge       4.59e-02    4.44e-03\n",
      "attorney    3.74e-02    4.30e-03\n",
      "district    3.72e-02    4.20e-03\n",
      "\n",
      "=====================================================Quiz Question. Select all the topics that have a cluster in the model created above. [multiple choice]====\n",
      "Cluster 22: Largest mean parameters in cluster \n",
      "\n",
      "Word        Mean        Variance    \n",
      "football    1.21e-01    6.14e-03\n",
      "afl         9.58e-02    1.31e-02\n",
      "australian  7.91e-02    1.58e-03\n",
      "club        5.93e-02    1.76e-03\n",
      "season      5.58e-02    1.83e-03\n",
      "\n",
      "=====================================================Quiz Question. Select all the topics that have a cluster in the model created above. [multiple choice]====\n",
      "Cluster 23: Largest mean parameters in cluster \n",
      "\n",
      "Word        Mean        Variance    \n",
      "research    5.70e-02    2.68e-03\n",
      "science     3.50e-02    2.95e-03\n",
      "university  3.34e-02    7.14e-04\n",
      "professor   3.20e-02    1.26e-03\n",
      "physics     2.61e-02    5.43e-03\n",
      "\n",
      "=====================================================Quiz Question. Select all the topics that have a cluster in the model created above. [multiple choice]====\n",
      "Cluster 24: Largest mean parameters in cluster \n",
      "\n",
      "Word        Mean        Variance    \n",
      "baseball    1.16e-01    5.57e-03\n",
      "league      1.03e-01    3.63e-03\n",
      "major       5.09e-02    1.19e-03\n",
      "games       4.66e-02    1.93e-03\n",
      "sox         4.55e-02    6.28e-03\n",
      "\n",
      "=====================================================Quiz Question. Select all the topics that have a cluster in the model created above. [multiple choice]====\n"
     ]
    }
   ],
   "source": [
    "'''By EM'''\n",
    "visualize_EM_clusters(tf_idf, out['means'], out['covs'], map_index_to_word)"
   ]
  },
  {
   "cell_type": "markdown",
   "metadata": {},
   "source": [
    "Comparing to random initialization\n",
    "\n",
    "Create variables for randomly initializing the EM algorithm. Complete the following code block.\n",
    "\n"
   ]
  },
  {
   "cell_type": "code",
   "execution_count": 51,
   "metadata": {
    "collapsed": true
   },
   "outputs": [],
   "source": [
    "np.random.seed(5)\n",
    "num_clusters = len(means)\n",
    "num_docs, num_words = tf_idf.shape\n",
    "\n",
    "random_means = []\n",
    "random_covs = []\n",
    "random_weights = []\n",
    "\n",
    "for k in range(num_clusters):\n",
    "    \n",
    "    # Create a numpy array of length num_words with random normally distributed values.\n",
    "    # Use the standard univariate normal distribution (mean 0, variance 1).\n",
    "    # YOUR CODE HERE\n",
    "    mean = np.random.normal(0, 1, num_words)\n",
    "    \n",
    "    # Create a numpy array of length num_words with random values uniformly distributed between 1 and 5.\n",
    "    # YOUR CODE HERE\n",
    "    cov = np.random.uniform(1,5, num_words)\n",
    "\n",
    "    # Initially give each cluster equal weight.\n",
    "    # YOUR CODE HERE\n",
    "    weight = 1.0 / num_clusters\n",
    "    \n",
    "    random_means.append(mean)\n",
    "    random_covs.append(cov)\n",
    "    random_weights.append(weight)"
   ]
  },
  {
   "cell_type": "markdown",
   "metadata": {},
   "source": [
    "### Quiz Question: \n",
    "\n",
    "Try fitting EM with the random initial parameters you created above. (Use cov_smoothing=1e-5.) Store the result to out_random_init. What is the final loglikelihood that the algorithm converges to?"
   ]
  },
  {
   "cell_type": "code",
   "execution_count": 53,
   "metadata": {
    "collapsed": true
   },
   "outputs": [],
   "source": [
    "out_random_init = EM_for_high_dimension(tf_idf, random_means, random_covs, random_weights, cov_smoothing=1e-5)"
   ]
  },
  {
   "cell_type": "code",
   "execution_count": 54,
   "metadata": {
    "collapsed": false
   },
   "outputs": [
    {
     "data": {
      "text/plain": [
       "[-764085987.57300639,\n",
       " 2282866699.1732855,\n",
       " 2362585588.3564939,\n",
       " 2362875609.1670547,\n",
       " 2362875609.1670547]"
      ]
     },
     "execution_count": 54,
     "metadata": {},
     "output_type": "execute_result"
    }
   ],
   "source": [
    "out_random_init['loglik']"
   ]
  },
  {
   "cell_type": "markdown",
   "metadata": {},
   "source": [
    "### Quiz Question: \n",
    "\n",
    "Is the final loglikelihood larger or smaller than the final loglikelihood we obtained above when initializing EM with the results from running k-means?"
   ]
  },
  {
   "cell_type": "code",
   "execution_count": null,
   "metadata": {
    "collapsed": true
   },
   "outputs": [],
   "source": []
  },
  {
   "cell_type": "markdown",
   "metadata": {},
   "source": [
    "### Quiz Question: \n",
    "\n",
    "For the above model, out_random_init, use the visualize_EM_clustersmethod you created above. Are the clusters more or less interpretable than the ones found after initializing using k-means?"
   ]
  },
  {
   "cell_type": "code",
   "execution_count": null,
   "metadata": {
    "collapsed": true
   },
   "outputs": [],
   "source": []
  },
  {
   "cell_type": "markdown",
   "metadata": {},
   "source": [
    "For the above model, out_random_init, use the visualize_EM_clustersmethod you created above. Are the clusters more or less interpretable than the ones found after initializing using k-means"
   ]
  },
  {
   "cell_type": "markdown",
   "metadata": {},
   "source": [
    "Takeaway\n",
    "\n",
    "In this assignment we were able to apply the EM algorithm to a mixture of Gaussians model of text data. This was made possible by modifying the model to assume a diagonal covariance for each cluster, and by modifying the implementation to use a sparse matrix representation. In the second part you explored the role of k-means initialization on the convergence of the model as well as the interpretability of the clusters."
   ]
  },
  {
   "cell_type": "code",
   "execution_count": 50,
   "metadata": {
    "collapsed": false
   },
   "outputs": [],
   "source": [
    "?np.random.uniform"
   ]
  },
  {
   "cell_type": "code",
   "execution_count": null,
   "metadata": {
    "collapsed": true
   },
   "outputs": [],
   "source": []
  }
 ],
 "metadata": {
  "kernelspec": {
   "display_name": "Python 2",
   "language": "python",
   "name": "python2"
  },
  "language_info": {
   "codemirror_mode": {
    "name": "ipython",
    "version": 2
   },
   "file_extension": ".py",
   "mimetype": "text/x-python",
   "name": "python",
   "nbconvert_exporter": "python",
   "pygments_lexer": "ipython2",
   "version": "2.7.10"
  },
  "widgets": {
   "state": {},
   "version": "1.1.2"
  }
 },
 "nbformat": 4,
 "nbformat_minor": 0
}
